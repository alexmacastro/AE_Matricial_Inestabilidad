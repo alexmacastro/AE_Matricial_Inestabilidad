{
 "cells": [
  {
   "cell_type": "markdown",
   "metadata": {
    "slideshow": {
     "slide_type": "slide"
    }
   },
   "source": [
    "# Matriz de rigidez de una viga de Bernoulli-Euler\n",
    "\n",
    "_Análisis de Estructuras. Grado en Ingeniería Civil._ \n",
    "\n",
    "Autor:\n",
    "\n",
    "- Alejandro E. Martínez-Castro.\n",
    "- Departamento de Mecánica de Estructuras e Ingeniería Hidráulica. Universidad de Granada.\n",
    "\n",
    "<a rel=\"license\" href=\"http://creativecommons.org/licenses/by-nc-sa/4.0/\"><img alt=\"Licencia de Creative Commons\" style=\"border-width:0\" src=\"https://i.creativecommons.org/l/by-nc-sa/4.0/88x31.png\" /></a><br /><span xmlns:dct=\"http://purl.org/dc/terms/\" property=\"dct:title\">Matriz de rigidez de viga de Bernoulli-Euler</span> by <span xmlns:cc=\"http://creativecommons.org/ns#\" property=\"cc:attributionName\">Alejandro Martínez Castro</span> is licensed under a <a rel=\"license\" href=\"http://creativecommons.org/licenses/by-nc-sa/4.0/\">Creative Commons Reconocimiento-NoComercial-CompartirIgual 4.0 Internacional License</a>."
   ]
  },
  {
   "cell_type": "markdown",
   "metadata": {
    "slideshow": {
     "slide_type": "slide"
    }
   },
   "source": [
    "## Objetivos del cuaderno\n",
    "\n",
    "En este cuaderno se va a obtener la matriz de rigidez para los términos de flexión de una viga de Bernoulli-Euler. La matriz se va a obtener a partir de la definición vista en clase. Esto permite explorar los siguientes objetivos: \n",
    "\n",
    "- Generación de las funciones cúbicas, soluciones a problemas de flexión de vigas con cargas en los extremos (funciones de Hermite). \n",
    "- Introducción de la metodología general para obtener las denominadas \"funciones de forma\", que más adelante se emplearán en el Método de los Elementos Finitos. \n",
    "- Determinación de los términos de las columnas de la matriz de rigidez mediante la evaluación directa de los esfuerzos cortante y flector en los extremos, y sus relaciones con las fuerzas y momentos en los extremos de barra."
   ]
  },
  {
   "cell_type": "markdown",
   "metadata": {
    "slideshow": {
     "slide_type": "slide"
    }
   },
   "source": [
    "En primer lugar, cargaremos el paquete SymPy, para poder realizar cálculos simbólicos"
   ]
  },
  {
   "cell_type": "code",
   "execution_count": 1,
   "metadata": {
    "slideshow": {
     "slide_type": "-"
    }
   },
   "outputs": [
    {
     "name": "stdout",
     "output_type": "stream",
     "text": [
      "IPython console for SymPy 1.9 (Python 3.8.12-64-bit) (ground types: gmpy)\n",
      "\n",
      "These commands were executed:\n",
      ">>> from __future__ import division\n",
      ">>> from sympy import *\n",
      ">>> x, y, z, t = symbols('x y z t')\n",
      ">>> k, m, n = symbols('k m n', integer=True)\n",
      ">>> f, g, h = symbols('f g h', cls=Function)\n",
      ">>> init_printing()\n",
      "\n",
      "Documentation can be found at https://docs.sympy.org/1.9/\n",
      "\n"
     ]
    }
   ],
   "source": [
    "from sympy import init_session\n",
    "init_session()"
   ]
  },
  {
   "cell_type": "markdown",
   "metadata": {
    "slideshow": {
     "slide_type": "slide"
    }
   },
   "source": [
    "## Definición de matrices de base polinómica y su primera derivada\n",
    "\n",
    "A continuación definiremos el símbolo para la longitud $L$, y definiremos la base de los polinomios cúbicos sobre la que se interpolará la solución."
   ]
  },
  {
   "cell_type": "code",
   "execution_count": 2,
   "metadata": {
    "slideshow": {
     "slide_type": "-"
    }
   },
   "outputs": [
    {
     "data": {
      "image/png": "[encoded data removed]",
      "text/latex": [
       "$\\displaystyle \\left[\\begin{matrix}1 & x & x^{2} & x^{3}\\end{matrix}\\right]$"
      ],
      "text/plain": [
       "⎡       2   3⎤\n",
       "⎣1  x  x   x ⎦"
      ]
     },
     "execution_count": 2,
     "metadata": {},
     "output_type": "execute_result"
    }
   ],
   "source": [
    "L = symbols('L')\n",
    "base = Matrix([[1,x,x**2,x**3]])\n",
    "base"
   ]
  },
  {
   "cell_type": "markdown",
   "metadata": {
    "slideshow": {
     "slide_type": "slide"
    }
   },
   "source": [
    "Definamos igualmente una lista con la derivada primera de estas funciones de base, pues necesitaremos imponer condiciones en giros:"
   ]
  },
  {
   "cell_type": "code",
   "execution_count": 3,
   "metadata": {
    "slideshow": {
     "slide_type": "-"
    }
   },
   "outputs": [
    {
     "data": {
      "image/png": "[encoded data removed]",
      "text/latex": [
       "$\\displaystyle \\left[\\begin{matrix}0 & 1 & 2 x & 3 x^{2}\\end{matrix}\\right]$"
      ],
      "text/plain": [
       "⎡              2⎤\n",
       "⎣0  1  2⋅x  3⋅x ⎦"
      ]
     },
     "execution_count": 3,
     "metadata": {},
     "output_type": "execute_result"
    }
   ],
   "source": [
    "deribase = diff(base,x)\n",
    "deribase"
   ]
  },
  {
   "cell_type": "markdown",
   "metadata": {
    "slideshow": {
     "slide_type": "slide"
    }
   },
   "source": [
    "## Construcción de la matriz de aplicaciones lineales asociadas a evaluar en los extremos del elemento viga.\n",
    "\n",
    "A continuación, construiremos la matriz asociada a cuatro aplicaciones lineales (por filas). En cada fila, se construirán las siguientes matrices: \n",
    "- En la primera fila, la aplicación para evaluar en el origen, $x=0$.\n",
    "- En la segunda fila, la aplicación para evaluar la primera derivada en el origen $x=0$. \n",
    "- En la tercera fila, la aplicación para evaluar la función en $x=L$. \n",
    "- En la cuarta fila, la aplicación para evaluar la derivada de la función en $x=L$. "
   ]
  },
  {
   "cell_type": "code",
   "execution_count": 4,
   "metadata": {
    "slideshow": {
     "slide_type": "-"
    }
   },
   "outputs": [
    {
     "data": {
      "image/png": "[encoded data removed]",
      "text/latex": [
       "$\\displaystyle \\left[\\begin{matrix}1 & 0 & 0 & 0\\\\0 & 1 & 0 & 0\\\\1 & L & L^{2} & L^{3}\\\\0 & 1 & 2 L & 3 L^{2}\\end{matrix}\\right]$"
      ],
      "text/plain": [
       "⎡1  0   0    0  ⎤\n",
       "⎢               ⎥\n",
       "⎢0  1   0    0  ⎥\n",
       "⎢               ⎥\n",
       "⎢       2     3 ⎥\n",
       "⎢1  L  L     L  ⎥\n",
       "⎢               ⎥\n",
       "⎢              2⎥\n",
       "⎣0  1  2⋅L  3⋅L ⎦"
      ]
     },
     "execution_count": 4,
     "metadata": {},
     "output_type": "execute_result"
    }
   ],
   "source": [
    "matM = Matrix.vstack(base.subs(x, 0), \n",
    "                     deribase.subs(x, 0), \n",
    "                     base.subs(x, L),\n",
    "                     deribase.subs(x, L))\n",
    "matM"
   ]
  },
  {
   "cell_type": "markdown",
   "metadata": {
    "slideshow": {
     "slide_type": "slide"
    }
   },
   "source": [
    "Según se vio en la teoría, la inversa de esta matriz, por columnas, contiene los cuatro coeficientes que multiplicarán a la base $[1,x,x^2,x^3]$ para construir las cuatro funciones $h1(x), h2(x), h3(x), h4(x)$. "
   ]
  },
  {
   "cell_type": "code",
   "execution_count": 5,
   "metadata": {
    "slideshow": {
     "slide_type": "-"
    }
   },
   "outputs": [
    {
     "data": {
      "image/png": "[encoded data removed]",
      "text/latex": [
       "$\\displaystyle \\left[\\begin{matrix}1 & 0 & 0 & 0\\\\0 & 1 & 0 & 0\\\\- \\frac{3}{L^{2}} & - \\frac{2}{L} & \\frac{3}{L^{2}} & - \\frac{1}{L}\\\\\\frac{2}{L^{3}} & \\frac{1}{L^{2}} & - \\frac{2}{L^{3}} & \\frac{1}{L^{2}}\\end{matrix}\\right]$"
      ],
      "text/plain": [
       "⎡ 1    0    0    0 ⎤\n",
       "⎢                  ⎥\n",
       "⎢ 0    1    0    0 ⎥\n",
       "⎢                  ⎥\n",
       "⎢-3   -2   3    -1 ⎥\n",
       "⎢───  ───  ──   ───⎥\n",
       "⎢  2   L    2    L ⎥\n",
       "⎢ L        L       ⎥\n",
       "⎢                  ⎥\n",
       "⎢2    1    -2   1  ⎥\n",
       "⎢──   ──   ───  ── ⎥\n",
       "⎢ 3    2     3   2 ⎥\n",
       "⎣L    L     L   L  ⎦"
      ]
     },
     "execution_count": 5,
     "metadata": {},
     "output_type": "execute_result"
    }
   ],
   "source": [
    "Inv_matM = matM.inv()\n",
    "Inv_matM"
   ]
  },
  {
   "cell_type": "markdown",
   "metadata": {
    "slideshow": {
     "slide_type": "slide"
    }
   },
   "source": [
    "## Construcción de las funciones de forma\n",
    "\n",
    "Finalmente, se construyen las cuatro funciones cúbicas $hi(x)$ (también llamadas \"polinomios de Hermite\"), que representan las cuatro soluciones a una viga de Bernoulli-Euler, que incluyen un desplazamiento unidad según el grado de libertad $i$, manteniendo el resto de grados de libertado con valor nulo. "
   ]
  },
  {
   "cell_type": "code",
   "execution_count": 6,
   "metadata": {
    "slideshow": {
     "slide_type": "-"
    }
   },
   "outputs": [],
   "source": [
    "h1 = base.dot(Inv_matM.col(0))\n",
    "h2 = base.dot(Inv_matM.col(1))\n",
    "h3 = base.dot(Inv_matM.col(2))\n",
    "h4 = base.dot(Inv_matM.col(3))"
   ]
  },
  {
   "cell_type": "markdown",
   "metadata": {
    "slideshow": {
     "slide_type": "subslide"
    }
   },
   "source": [
    "Veamos una de ellas:"
   ]
  },
  {
   "cell_type": "code",
   "execution_count": 7,
   "metadata": {
    "slideshow": {
     "slide_type": "-"
    }
   },
   "outputs": [
    {
     "data": {
      "image/png": "[encoded data removed]",
      "text/latex": [
       "$\\displaystyle x - \\frac{2 x^{2}}{L} + \\frac{x^{3}}{L^{2}}$"
      ],
      "text/plain": [
       "       2    3\n",
       "    2⋅x    x \n",
       "x - ──── + ──\n",
       "     L      2\n",
       "           L "
      ]
     },
     "execution_count": 7,
     "metadata": {},
     "output_type": "execute_result"
    }
   ],
   "source": [
    "h2"
   ]
  },
  {
   "cell_type": "markdown",
   "metadata": {
    "slideshow": {
     "slide_type": "slide"
    }
   },
   "source": [
    "## Definición de las funciones \"esfuerzo cortante\" y \"momento flector\"\n",
    "\n",
    "A continuación se definen las funciones que permiten obtener el esfuerzo cortante $\\mathcal{V}(x)$ y el momento flector $\\mathcal{M}(x)$. Estas funciones pueden construirse a partir de la solución para el desplazamiento $y(x)$, como: \n",
    "\n",
    "\\begin{eqnarray}\n",
    "\\mathcal{V}(x) & = & - EI\\,y'''(x) \\\\\n",
    "\\mathcal{M}(x) & = & EI\\,y''(x)\n",
    "\\end{eqnarray}\n",
    "\n",
    "Nótese que estas funciones tienen signo. En clase se vio el criterio de signos positivo. "
   ]
  },
  {
   "cell_type": "code",
   "execution_count": 8,
   "metadata": {
    "slideshow": {
     "slide_type": "-"
    }
   },
   "outputs": [],
   "source": [
    "EI = symbols('EI')\n",
    "def cortante(f):\n",
    "    return -EI*diff(f,x,3)\n",
    "\n",
    "def flector(f):\n",
    "    return EI*diff(f,x,2)"
   ]
  },
  {
   "cell_type": "markdown",
   "metadata": {
    "slideshow": {
     "slide_type": "subslide"
    }
   },
   "source": [
    "Podemos probar estas funciones. Por ejemplo, el momento flector en $x=0$ correspondiente a la función de desplazamiento $h1(x)$ es: "
   ]
  },
  {
   "cell_type": "code",
   "execution_count": 9,
   "metadata": {
    "slideshow": {
     "slide_type": "-"
    }
   },
   "outputs": [
    {
     "data": {
      "image/png": "[encoded data removed]",
      "text/latex": [
       "$\\displaystyle - \\frac{6 EI}{L^{2}}$"
      ],
      "text/plain": [
       "-6⋅EI \n",
       "──────\n",
       "   2  \n",
       "  L   "
      ]
     },
     "execution_count": 9,
     "metadata": {},
     "output_type": "execute_result"
    }
   ],
   "source": [
    "flector(h1).subs(x,0)"
   ]
  },
  {
   "cell_type": "markdown",
   "metadata": {
    "slideshow": {
     "slide_type": "slide"
    }
   },
   "source": [
    "## Construcción de la matriz de rigidez. \n",
    "\n",
    "La columna $j$ de la matriz de rigidez, con $j\\in[1,4]$ tiene 4 términos. En los cuatro términos de las filas, se ubican las fuerzas y momentos, según el criterio de signos para fuerzas en extremos de barras (no confundir con los signos para los momentos), que deben aplicarse para que la función de desplazamiento sea $hj(x)$. \n",
    "\n",
    "\n",
    "<img src=\"signosBE.png\" width=\"500\" >\n",
    "\n",
    "Sus relaciones con las fuerzas y momentos en los extremos de barra, $F_i, M_i, F_j, M_j$, son las siguientes:\n",
    "\n",
    "\\begin{eqnarray}\n",
    "F_i & = & - \\mathcal{V}(0) \\\\\n",
    "M_i & = & - \\mathcal{M}(0) \\\\\n",
    "F_j & = & \\mathcal{V}(L) \\\\\n",
    "M_j & = & \\mathcal{M}(L)\n",
    "\\end{eqnarray}\n",
    "\n",
    "Considerando estas relaciones, podemos construir la matriz de rigidez, evaluando en los extremos según la relación anterior, y teniendo en cuenta las soluciones ya calculadas para las funciones $h1(x), h2(x), h3(x), h4(x)$. \n",
    "\n",
    "Definamos una función que nos devolverá la columna correspondiente a la matriz de rigidez, dada una función de desplazamiento genérica:"
   ]
  },
  {
   "cell_type": "code",
   "execution_count": 10,
   "metadata": {
    "run_control": {
     "marked": true
    },
    "slideshow": {
     "slide_type": "-"
    }
   },
   "outputs": [],
   "source": [
    "def columna(f):\n",
    "    return Matrix([[-cortante(f).subs(x,0)],\n",
    "                   [-flector(f).subs(x,0)],\n",
    "                   [cortante(f).subs(x,L)],\n",
    "                   [flector(f).subs(x,L)]])"
   ]
  },
  {
   "cell_type": "markdown",
   "metadata": {
    "slideshow": {
     "slide_type": "subslide"
    }
   },
   "source": [
    "Veamos cómo funciona con una de las funciones polinómicas de Hermite: "
   ]
  },
  {
   "cell_type": "code",
   "execution_count": 11,
   "metadata": {
    "slideshow": {
     "slide_type": "-"
    }
   },
   "outputs": [
    {
     "data": {
      "image/png": "[encoded data removed]",
      "text/latex": [
       "$\\displaystyle \\left[\\begin{matrix}\\frac{12 EI}{L^{3}}\\\\\\frac{6 EI}{L^{2}}\\\\- \\frac{12 EI}{L^{3}}\\\\\\frac{6 EI}{L^{2}}\\end{matrix}\\right]$"
      ],
      "text/plain": [
       "⎡ 12⋅EI ⎤\n",
       "⎢ ───── ⎥\n",
       "⎢    3  ⎥\n",
       "⎢   L   ⎥\n",
       "⎢       ⎥\n",
       "⎢ 6⋅EI  ⎥\n",
       "⎢ ────  ⎥\n",
       "⎢   2   ⎥\n",
       "⎢  L    ⎥\n",
       "⎢       ⎥\n",
       "⎢-12⋅EI ⎥\n",
       "⎢───────⎥\n",
       "⎢    3  ⎥\n",
       "⎢   L   ⎥\n",
       "⎢       ⎥\n",
       "⎢ 6⋅EI  ⎥\n",
       "⎢ ────  ⎥\n",
       "⎢   2   ⎥\n",
       "⎣  L    ⎦"
      ]
     },
     "execution_count": 11,
     "metadata": {},
     "output_type": "execute_result"
    }
   ],
   "source": [
    "columna(h1)"
   ]
  },
  {
   "cell_type": "markdown",
   "metadata": {
    "slideshow": {
     "slide_type": "slide"
    }
   },
   "source": [
    "Para construir la matriz de rigidez, simplemente \"apilamos\" las cuatro columnas, construidas consecutivamente para las cuatro funciones de Hermite: "
   ]
  },
  {
   "cell_type": "code",
   "execution_count": 12,
   "metadata": {
    "slideshow": {
     "slide_type": "-"
    }
   },
   "outputs": [
    {
     "data": {
      "image/png": "[encoded data removed]",
      "text/latex": [
       "$\\displaystyle \\left[\\begin{matrix}\\frac{12 EI}{L^{3}} & \\frac{6 EI}{L^{2}} & - \\frac{12 EI}{L^{3}} & \\frac{6 EI}{L^{2}}\\\\\\frac{6 EI}{L^{2}} & \\frac{4 EI}{L} & - \\frac{6 EI}{L^{2}} & \\frac{2 EI}{L}\\\\- \\frac{12 EI}{L^{3}} & - \\frac{6 EI}{L^{2}} & \\frac{12 EI}{L^{3}} & - \\frac{6 EI}{L^{2}}\\\\\\frac{6 EI}{L^{2}} & \\frac{2 EI}{L} & - \\frac{6 EI}{L^{2}} & \\frac{4 EI}{L}\\end{matrix}\\right]$"
      ],
      "text/plain": [
       "⎡ 12⋅EI    6⋅EI   -12⋅EI    6⋅EI ⎤\n",
       "⎢ ─────    ────   ───────   ──── ⎥\n",
       "⎢    3       2        3       2  ⎥\n",
       "⎢   L       L        L       L   ⎥\n",
       "⎢                                ⎥\n",
       "⎢ 6⋅EI     4⋅EI   -6⋅EI     2⋅EI ⎥\n",
       "⎢ ────     ────   ──────    ──── ⎥\n",
       "⎢   2       L        2       L   ⎥\n",
       "⎢  L                L            ⎥\n",
       "⎢                                ⎥\n",
       "⎢-12⋅EI   -6⋅EI    12⋅EI   -6⋅EI ⎥\n",
       "⎢───────  ──────   ─────   ──────⎥\n",
       "⎢    3       2        3       2  ⎥\n",
       "⎢   L       L        L       L   ⎥\n",
       "⎢                                ⎥\n",
       "⎢ 6⋅EI     2⋅EI   -6⋅EI     4⋅EI ⎥\n",
       "⎢ ────     ────   ──────    ──── ⎥\n",
       "⎢   2       L        2       L   ⎥\n",
       "⎣  L                L            ⎦"
      ]
     },
     "execution_count": 12,
     "metadata": {},
     "output_type": "execute_result"
    }
   ],
   "source": [
    "matriz_rigidez = Matrix.hstack(columna(h1),columna(h2),columna(h3),columna(h4))\n",
    "matriz_rigidez\n",
    "                     "
   ]
  }
 ],
 "metadata": {
  "kernelspec": {
   "display_name": "Python 3 (ipykernel)",
   "language": "python",
   "name": "python3"
  },
  "language_info": {
   "codemirror_mode": {
    "name": "ipython",
    "version": 3
   },
   "file_extension": ".py",
   "mimetype": "text/x-python",
   "name": "python",
   "nbconvert_exporter": "python",
   "pygments_lexer": "ipython3",
   "version": "3.8.12"
  },
  "nbTranslate": {
   "displayLangs": [
    "*"
   ],
   "hotkey": "alt-t",
   "langInMainMenu": true,
   "sourceLang": "en",
   "targetLang": "fr",
   "useGoogleTranslate": true
  },
  "toc": {
   "base_numbering": 1,
   "nav_menu": {},
   "number_sections": true,
   "sideBar": true,
   "skip_h1_title": true,
   "title_cell": "Table of Contents",
   "title_sidebar": "Contents",
   "toc_cell": false,
   "toc_position": {
    "height": "calc(100% - 180px)",
    "left": "10px",
    "top": "150px",
    "width": "236.6px"
   },
   "toc_section_display": true,
   "toc_window_display": false
  },
  "varInspector": {
   "cols": {
    "lenName": 16,
    "lenType": 16,
    "lenVar": 40
   },
   "kernels_config": {
    "python": {
     "delete_cmd_postfix": "",
     "delete_cmd_prefix": "del ",
     "library": "var_list.py",
     "varRefreshCmd": "print(var_dic_list())"
    },
    "r": {
     "delete_cmd_postfix": ") ",
     "delete_cmd_prefix": "rm(",
     "library": "var_list.r",
     "varRefreshCmd": "cat(var_dic_list()) "
    }
   },
   "types_to_exclude": [
    "module",
    "function",
    "builtin_function_or_method",
    "instance",
    "_Feature"
   ],
   "window_display": false
  }
 },
 "nbformat": 4,
 "nbformat_minor": 4
}
