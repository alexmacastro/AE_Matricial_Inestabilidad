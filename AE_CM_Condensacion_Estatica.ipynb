{
 "cells": [
  {
   "cell_type": "markdown",
   "metadata": {},
   "source": [
    "# Condensación estática en Cálculo Matricial de Estructuras\n",
    "\n",
    "Análisis de Estructuras. Grado en Ingeniería Civil.\n",
    "\n",
    "Autor\n",
    "\n",
    "- Alejandro E. Martínez-Castro, amcastro@ugr.es\n",
    "- Departamento de Mecánica de Estructuras e Ingeniería Hidráulica. Universidad de Granada.\n",
    "\n",
    "<a rel=\"license\" href=\"http://creativecommons.org/licenses/by-nc-sa/4.0/\"><img alt=\"Licencia de Creative Commons\" style=\"border-width:0\" src=\"https://i.creativecommons.org/l/by-nc-sa/4.0/88x31.png\" /></a><br /><span xmlns:dct=\"http://purl.org/dc/terms/\" property=\"dct:title\">Condensación estática en Cálculo Matricial de Estructuras</span> by <span xmlns:cc=\"http://creativecommons.org/ns#\" property=\"cc:attributionName\">Alejandro Martínez Castro</span> is licensed under a <a rel=\"license\" href=\"http://creativecommons.org/licenses/by-nc-sa/4.0/\">Creative Commons Reconocimiento-NoComercial-CompartirIgual 4.0 Internacional License</a>."
   ]
  },
  {
   "cell_type": "markdown",
   "metadata": {},
   "source": [
    "## Concepto\n",
    "\n",
    "¿Qué es la __condensación estática__?. La palabra \"condensar\" se introduce en el argot del análisis estructural, para hacer referencia a un recurso bien conocido por el alumno. En efecto, cuando se estudiaron **sistemas de ecuaciones lineales**, una técnica de resolución (método de sustitución) consistía en **despejar una variable en función de las demás**, y sustituir la relación obtenida en el resto de ecuaciones. En consecuencia, el sistema pasaba a tener un orden menor, y sólo aparecían como variables a resolver el resto de variables, excepto la que se había despejado. "
   ]
  },
  {
   "cell_type": "markdown",
   "metadata": {},
   "source": [
    "### Ejemplo: Condensación en sistemas de ecuaciones lineales\n",
    "\n",
    "Consideremos el sistema de ecuaciones lineal: \n",
    "\n",
    "\\begin{align}\n",
    "x - y + z = 2 \\\\\n",
    "2\\,x + 3 \\,y - 2\\,z = 2 \\\\\n",
    "x - 3\\,y + 4 \\, z = 1 \\\\\n",
    "\\end{align}"
   ]
  },
  {
   "cell_type": "markdown",
   "metadata": {},
   "source": [
    "En la primera, se puede despejar la variable $x$ en función de las variables $y$, $z$. En efecto, es fácil comprobar que\n",
    "\n",
    "$$x = 2 + y - z$$"
   ]
  },
  {
   "cell_type": "markdown",
   "metadata": {},
   "source": [
    "Esta ecuación se puede sustituir en las dos ecuaciones del sistema, quedando: \n",
    "\n",
    "\\begin{align}\n",
    "2\\,(2 + y - z) + 3\\,y - 2\\, z = 2 \\\\\n",
    "(2 + y - z) - 3\\,y + 4\\,z = 1\n",
    "\\end{align}"
   ]
  },
  {
   "cell_type": "markdown",
   "metadata": {},
   "source": [
    "Simplificando, se obtiene un sistema de 2 ecuaciones con 2 incógnitas: \n",
    "\n",
    "\\begin{align}\n",
    "5\\,y - 4\\,z = -2 \\\\\n",
    "- 2\\,y + 3\\,z = -1\n",
    "\\end{align}"
   ]
  },
  {
   "cell_type": "markdown",
   "metadata": {},
   "source": [
    "Se ha obtenido un sistema, en el cual la variable $x$ no está presente. \n",
    "\n",
    "Este ejemplo muestra **cuatro aspectos clave**: \n",
    "\n",
    "+ La variable $x$ se ha despejado, **no se ha \"convertido en cero\"**. \n",
    "+ El sistema de ecuaciones, sólo ya en las variables $y$, $z$, tiene unos **coeficientes diferentes** para estas dos variables, y son diferentes que los coeficientes que tenían en el sistema original 3x3.  \n",
    "+ Los **términos de la derecha** son diferentes. \n",
    "+ Una vez despejados los valores de $y$, $z$ (que se pueden resolver por el método de Cramer, por ejemplo), el valor de $x$ se puede calcular, considerando la ecuación $x = 2 + y - z$ que se planteó inicialmente."
   ]
  },
  {
   "cell_type": "markdown",
   "metadata": {},
   "source": [
    "## Relación con los sistemas de ecuaciones de Cálculo Matricial\n",
    "\n",
    "En este ejemplo, conocido por el alumno en álgebra, sirve de base para plantear qué es esto de la \"condensación estática\". Sobre este ejemplo, diremos ahora en el argot propio de Cálculo Matricial que la variable $x$ del sistema original **se ha condensado**, y el sistema para las variables $y$ y $z$ es el resultante de haber condensado la variable $x$. \n",
    "\n",
    "**Condensar por tanto equivale a \"despejar un grado de libertad en función de los demás\"**. \n",
    "\n",
    "\"Condensar\" por tanto es algo que ya sabemos hacer, y que el hecho de llamarlo de otra forma no debe confundirnos. \n",
    "\n",
    "Por supuesto, se mantienen las mismas conclusiones que las vistas en sistemas de ecuaciones. Al condensar una variable: \n",
    "\n",
    "+ La variable condensada no se anula. Simplemente, existe una ecuación que permite calcular el grado de libertad que no está en el nuevo sistema de ecuaciones. \n",
    "+ El nuevo sistema de ecuaciones tiene una matriz de coeficientes del sistema diferente. \n",
    "+ El nuevo sistema de ecuaciones tiene un vector de la derecha diferente. \n",
    "+ El grado de libertad condensado puede calcularse, una vez resuelto el sistema de ecuaciones, retomando la ecuación que se empleó para la condensación. "
   ]
  },
  {
   "cell_type": "markdown",
   "metadata": {},
   "source": [
    "### Ejemplo: condensación en formato matricial. \n",
    "\n",
    "El ejemplo anterior puede plantearse en formato matricial. En efecto, el sistema: \n",
    "\n",
    "\\begin{equation}\n",
    "\\begin{bmatrix}\n",
    "1 & -1 & 1 \\\\\n",
    "2 & 3 & -2 \\\\\n",
    "1 & -3 & 4 \\\\\n",
    "\\end{bmatrix} \\cdot\n",
    "\\begin{pmatrix}\n",
    "x \\\\\n",
    "y \\\\\n",
    "z\n",
    "\\end{pmatrix} =\n",
    "\\begin{pmatrix}\n",
    "2 \\\\\n",
    "2 \\\\\n",
    "1\n",
    "\\end{pmatrix}\n",
    "\\end{equation}"
   ]
  },
  {
   "cell_type": "markdown",
   "metadata": {},
   "source": [
    "Puede plantearse por bloques como sigue: \n",
    "\n",
    "\\begin{equation}\n",
    "\\begin{bmatrix}\n",
    "\\mathbf{K_{xx}} & \\mathbf{K_{xu}} \\\\\n",
    "\\mathbf{K_{ux}}& \\mathbf{K_{uu}}\n",
    "\\end{bmatrix} = \n",
    "\\begin{pmatrix}\n",
    "x \\\\\n",
    "\\mathbf{u}\n",
    "\\end{pmatrix} = \n",
    "\\begin{pmatrix}\n",
    "2 \\\\\n",
    "\\mathbf{b}\n",
    "\\end{pmatrix}\n",
    "\\end{equation}\n",
    "\n",
    "siendo:\n",
    "\n",
    "\\begin{equation} \n",
    "\\mathbf{u} = \\begin{pmatrix} y \\\\ z \\end{pmatrix}; \\,\\,\\,\\mathbf{b} = \\begin{pmatrix} 2 \\\\ 1 \\end{pmatrix}\n",
    "\\end{equation}\n",
    "\n",
    "y \n",
    "\n",
    "\\begin{equation}\n",
    "\\mathbf{K_{xx}} = 2; \\,\\,\\,\\mathbf{K_{xu}} = \\begin{pmatrix} -1 & 1 \\end{pmatrix}; \\,\\,\\,\\mathbf{K_{ux}} = \\begin{pmatrix} 2 \\\\ 1 \\end{pmatrix}; \\,\\,\\, \\mathbf{K_{uu}} = \\begin{pmatrix} 3 & -2 \\\\ -3 & 4 \\end{pmatrix}\n",
    "\\end{equation}"
   ]
  },
  {
   "cell_type": "markdown",
   "metadata": {},
   "source": [
    "La primera fila permite despejar la $x$, en formato matricial: \n",
    "\n",
    "\\begin{equation}\n",
    "\\mathbf{K_{xx}}\\,x + \\mathbf{K_{xu}}\\,\\mathbf{u} = 2; \\Rightarrow x = \\mathbf{K_{xx}}^{-1} \\cdot \\left( 2 - \\mathbf{K_{xu}}\\cdot \\mathbf{u}\\right)\n",
    "\\end{equation}\n",
    "\n",
    "En la segunda fila, multiplicando por bloques, se obtiene: \n",
    "\n",
    "\\begin{align}\n",
    "\\mathbf{K_{ux}}\\cdot x + \\mathbf{K_{uu}} \\cdot \\mathbf{u} = \\mathbf{b}\n",
    "\\end{align}\n",
    "\n",
    "Y sustituyendo la expresión de $x$, se obtiene: \n",
    "\\begin{equation}\n",
    "\\mathbf{K_{ux}}\\cdot \\mathbf{K_{xx}}^{-1} \\cdot \\left( 2 - \\mathbf{K_{xu}}\\cdot \\mathbf{u}\\right) + \\mathbf{K_{uu}} \\cdot \\mathbf{u} = \\mathbf{b}\n",
    "\\end{equation}\n",
    "\n",
    "Operando, y agrupando, se obtiene el siguiente sistema: \n",
    "\n",
    "\\begin{equation}\n",
    "\\left( \\mathbf{K_{uu}} - \\mathbf{K_{ux}} \\cdot \\mathbf{K_{xx}}^{-1}\\,\\cdot \\mathbf{xu} \\right) \\cdot \\mathbf{u} = \\mathbf{b} - \\mathbf{K_{ux}}\\cdot \\mathbf{K_{xx}}^{-1}\\cdot 2\n",
    "\\end{equation}\n",
    "\n",
    "Este sistema puede verse como: \n",
    "\n",
    "\\begin{equation}\n",
    "\\mathbf{K} \\, \\mathbf{u}  = \\mathbf{F}\n",
    "\\end{equation}\n",
    "\n",
    "Nótese que: \n",
    "\n",
    "+ El hecho de que no aparezca la $x$ no implica que hayamos hecho $x=0$. ¡ Sería absurdo pensar tal cosa !\n",
    "+ La matriz $\\mathbf{K}$ es distinta de la matriz del sistema original, y se obtiene mediante operaciones matriciales. No se obtiene meramente eliminando o haciendo ceros filas o columnas. ¡También sería absurdo pensar tal cosa!. \n",
    "+ El vector de la derecha, $\\mathbf{F}$ se ha obtenido mediante operaciones matriciales. Es completamente diferente del vector de la derecha, y pensar que $\\mathbf{F}$ procede de quedarse con posiciones del vector de la derecha original, ¡también sería absurdo!. \n",
    "\n",
    "Estos conceptos, tan bien asentados en álgebra lineal, deben seguir los razonamientos que se hagan en los aspectos de condensación estática en cálculo matricial. Ya que formalmente, aunque se introduce una palabra nueva, \"condensación\", nada cambia. \n",
    "\n",
    "Una vez resuelto el nuevo sistema, donde las únicas incógnitas están en el vector $\\mathbf{u}$, es decir, $y$, y $z$, la reconstrucción del valor de $x$ es posible, simplemente, retomando la ecuación que permitió despejar $x$ en función de $y$ y de $z$. \n",
    "\n",
    "\\begin{equation}\n",
    "x = \\mathbf{K_{xx}}^{-1} \\cdot \\left( 2 - \\mathbf{K_{xu}}\\cdot \\mathbf{u}\\right)\n",
    "\\end{equation}\n",
    "\n",
    "La formulación anterior puede verse con números: "
   ]
  },
  {
   "cell_type": "code",
   "execution_count": 1,
   "metadata": {},
   "outputs": [
    {
     "data": {
      "text/plain": [
       "matrix([[ 1, -1,  1],\n",
       "        [ 2,  3, -2],\n",
       "        [ 1, -3,  4]])"
      ]
     },
     "execution_count": 1,
     "metadata": {},
     "output_type": "execute_result"
    }
   ],
   "source": [
    "from __future__ import division\n",
    "import numpy as np\n",
    "\n",
    "matA = np.matrix([[1,-1,1],\n",
    "                  [2,3,-2],\n",
    "                  [1,-3,4]])\n",
    "matA"
   ]
  },
  {
   "cell_type": "code",
   "execution_count": 2,
   "metadata": {},
   "outputs": [
    {
     "data": {
      "text/plain": [
       "matrix([[2],\n",
       "        [1]])"
      ]
     },
     "execution_count": 2,
     "metadata": {},
     "output_type": "execute_result"
    }
   ],
   "source": [
    "vecB = np.matrix([2,1]).T\n",
    "vecB"
   ]
  },
  {
   "cell_type": "markdown",
   "metadata": {},
   "source": [
    "Definamos las matrices que intervienen: "
   ]
  },
  {
   "cell_type": "code",
   "execution_count": 3,
   "metadata": {},
   "outputs": [],
   "source": [
    "Kxx = matA[0,0]\n",
    "Kxu = matA[0,1:3]\n",
    "Kux = matA[1:3,0]\n",
    "Kuu = matA[1:3,1:3]"
   ]
  },
  {
   "cell_type": "code",
   "execution_count": 4,
   "metadata": {},
   "outputs": [
    {
     "name": "stdout",
     "output_type": "stream",
     "text": [
      "Kxx =  1\n",
      "Kxu =  [[-1  1]]\n",
      "Kux =  [[2]\n",
      " [1]]\n",
      "Kuu =  [[ 3 -2]\n",
      " [-3  4]]\n"
     ]
    }
   ],
   "source": [
    "print (\"Kxx = \", Kxx)\n",
    "print (\"Kxu = \", Kxu)\n",
    "print (\"Kux = \", Kux)\n",
    "print (\"Kuu = \", Kuu)"
   ]
  },
  {
   "cell_type": "markdown",
   "metadata": {},
   "source": [
    "A continuación calculemos la matriz $\\mathbf{K}$ y el vector $\\mathbf{F}$ del nuevo sistema. Para ello, aplicamos las sumas y productos matriciales anteriores. Puesto que $\\mathbf{K_{xx}} = 1$, la inversa se toma explícitamente. "
   ]
  },
  {
   "cell_type": "code",
   "execution_count": 5,
   "metadata": {},
   "outputs": [
    {
     "name": "stdout",
     "output_type": "stream",
     "text": [
      "K =  [[ 5. -4.]\n",
      " [-2.  3.]]\n"
     ]
    }
   ],
   "source": [
    "matK = Kuu - 1./Kxx * Kux.dot(Kxu)\n",
    "print (\"K = \", matK)"
   ]
  },
  {
   "cell_type": "code",
   "execution_count": 6,
   "metadata": {},
   "outputs": [
    {
     "name": "stdout",
     "output_type": "stream",
     "text": [
      "vecF =  [[-2.]\n",
      " [-1.]]\n"
     ]
    }
   ],
   "source": [
    "vecF = vecB - 1/Kxx *Kux* 2\n",
    "print (\"vecF = \", vecF)"
   ]
  },
  {
   "cell_type": "markdown",
   "metadata": {},
   "source": [
    "Obsérvese que el sistema que se ha obtenido es igual al que inicialmente se planteó para la $y$ y $z$. Se ha obtenido mediante operaciones matriciales."
   ]
  },
  {
   "cell_type": "markdown",
   "metadata": {},
   "source": [
    "## Condensación estática\n",
    "\n",
    "La condensación estática es una técnica que puede extenderse a sistemas de ecuaciones de manera general. Es posible despejar más de un grado de libertad, y sustituirlo en función del resto de grados de libertad. De esta forma, se genera un sistema de ecuaciones reducido. \n",
    "\n",
    "Vamos a considerar un sistema matricial de la siguiente forma: \n",
    "\n",
    "\\begin{equation}\n",
    "\\begin{pmatrix} \n",
    "\\mathbf{F}_A \\\\ \\mathbf{F}_B \\end{pmatrix}\n",
    "- \\begin{pmatrix} \\mathbf{\\tilde{F}}_A \\\\ \\mathbf{\\tilde{F}}_B \n",
    "\\end{pmatrix} = \n",
    "\\begin{pmatrix}\n",
    "\\mathbf{K}_{AA} & \\mathbf{K}_{AB} \\\\\n",
    "\\mathbf{K}_{BA} & \\mathbf{K}_{BB}\n",
    "\\end{pmatrix} \\cdot\n",
    "\\begin{pmatrix}\n",
    "\\mathbf{u}_A \\\\\n",
    "\\mathbf{u}_B\n",
    "\\end{pmatrix}\n",
    "\\end{equation}\n",
    "\n",
    "vamos a condensar los grados de libertad del vector $\\mathbf{u}_B$ (grados de libertad *esclavos*) en función de $\\mathbf{u}_A$ (grados de libertad *maestros*). Tomamos para ello las filas de estos grados, \n",
    "\n",
    "\\begin{equation}\n",
    "\\mathbf{F}_B - \\mathbf{\\tilde{F}}_B = \\mathbf{K}_{BA}\\,\\mathbf{u}_A + \\mathbf{K}_{BB}\\,\\mathbf{u}_B\n",
    "\\end{equation}\n",
    "\n",
    "y despejamos $\\mathbf{u}_B$\n",
    "\n",
    "$$\\mathbf{u}_B = \\mathbf{K}_{BB}^{-1}\\,\\mathbf{F}_B - \\mathbf{K}_{BB}^{-1}\\,\\mathbf{\\tilde{F}}_B - \\mathbf{K}_{BB}^{-1}\\,\\mathbf{K}_{BA} \\,\\mathbf{u}_A $$\n",
    "\n",
    "En la fila de los grados de libertad que no vamos a condensar, $\\mathbf{u}_A$, quedará: \n",
    "\n",
    "\\begin{equation}\n",
    "\\mathbf{F}_A - \\mathbf{\\tilde{F}}_A = \\mathbf{K}_{AA}\\,\\mathbf{u}_A + \\mathbf{K}_{AB}\\,\\mathbf{u}_B\n",
    "\\end{equation}\n",
    "\n",
    "y sustituyendo la expresión de $\\mathbf{u}_B quedará: \n",
    "\n",
    "\\begin{equation}\n",
    "\\mathbf{F}_A - \\mathbf{\\tilde{F}}_A = \\mathbf{K}_{AA}\\,\\mathbf{u}_A + \\mathbf{K}_{AB}\\,\\left( \\mathbf{K}_{BB}^{-1}\\,\\mathbf{F}_B - \\mathbf{K}_{BB}^{-1}\\,\\mathbf{\\tilde{F}}_B - \\mathbf{K}_{BB}^{-1}\\,\\mathbf{K}_{BA} \\,\\mathbf{u}_A \\right)\n",
    "\\end{equation}\n",
    "\n",
    "Agrupando términos,\n",
    "\n",
    "$$\\left( \\mathbf{F}_A - \\mathbf{K}_{AB}\\,\\mathbf{K}_{BB}^{-1}\\,\\mathbf{F}_B \\right) - \\left( \\mathbf{\\tilde{F}}_A - \\mathbf{K}_{AB}\\,\\mathbf{K}_{BB}^{-1}\\,\\mathbf{\\tilde{F}}_B \\right) = \\left( \\mathbf{K}_{AA}-\\mathbf{K}_{AB}\\,\\mathbf{K}_{BB}^{-1}\\,\\mathbf{K}_{BA} \\right)\\,\\mathbf{u}_A $$\n",
    "\n",
    "Esta última ecuación puede escribirse como: \n",
    "\n",
    "$$ \\mathbf{F}^q - \\mathbf{\\tilde{F}}^q = \\mathbf{K}^q \\,\\mathbf{u}^q$$\n",
    "\n",
    "Donde: \n",
    "\n",
    "+ $\\mathbf{F}^q = \\mathbf{F}_A - \\mathbf{K}_{AB}\\,\\mathbf{K}_{BB}^{-1}\\,\\mathbf{F}_B$\n",
    "+ $\\mathbf{\\tilde{F}}^q = \\mathbf{\\tilde{F}}_A - \\mathbf{K}_{AB}\\,\\mathbf{K}_{BB}^{-1}\\,\\mathbf{\\tilde{F}}_B$\n",
    "+ $\\mathbf{K}^q = \\mathbf{K}_{AA} - \\mathbf{K}_{AB} \\,\\mathbf{K}_{BB}^{-1}\\,\\mathbf{K}_{BA}$\n",
    "+ $\\mathbf{u}^q = \\mathbf{u}$\n",
    "\n",
    "Este sistema equivalente tiene como grados de libertad, los mismos $\\mathbf{u}_A$ que se mantienen del sistema original (grados maestros). Pero cambian tanto la matriz de rigidez como los vectores de fuerzas. En dicha matriz y vectores se \"oculta\" el efecto de los grados de libertad que, aunque no aparecen explícitamente, sí generan un efecto en el sistema de ecuaciones. "
   ]
  },
  {
   "cell_type": "markdown",
   "metadata": {},
   "source": [
    "## Condensación estática del giro en barra con extremo articulado\n",
    "\n",
    "En este apartado se va a calcular la matriz de rigidez de una barra en configuración empotrado-articulado, en coordenadas locales. Nótese que para que se presente esta configuración, la barra debe tener en la parte de la derecha una rótula, que suponga una condición de contorno de momento flector nulo en dicho extremo, y en la izquierda, los 3 grados de libertad. \n",
    "\n",
    "El término \"empotrado\" o \"apoyado\" no supone: \n",
    "+ Que en la parte izquierda exista un empotramiento que bloquee los 3 grados de libertad. \n",
    "+ Que en la parte de la derecha exista un extremo apoyado, con un apoyo simple. \n",
    "\n",
    "Eso son condiciones de contorno, las cuales se aplican sobre los grados de libertad de la barra condensada. \n",
    "\n",
    "La condensación se realizará sobre el grado de libertad $\\theta_2$. \n",
    "\n",
    "Se considerará que sobre la barra existe una carga uniforme, hacia abajo, de valor $q$ (carga distribuida). \n",
    "\n",
    "En esta ocasión se utilizará el paquete SymPy. \n"
   ]
  },
  {
   "cell_type": "code",
   "execution_count": 7,
   "metadata": {},
   "outputs": [
    {
     "name": "stdout",
     "output_type": "stream",
     "text": [
      "IPython console for SymPy 1.5.1 (Python 3.7.3-64-bit) (ground types: python)\n",
      "\n",
      "These commands were executed:\n",
      ">>> from __future__ import division\n",
      ">>> from sympy import *\n",
      ">>> x, y, z, t = symbols('x y z t')\n",
      ">>> k, m, n = symbols('k m n', integer=True)\n",
      ">>> f, g, h = symbols('f g h', cls=Function)\n",
      ">>> init_printing()\n",
      "\n",
      "Documentation can be found at https://docs.sympy.org/1.5.1/\n",
      "\n"
     ]
    }
   ],
   "source": [
    "from sympy import init_session\n",
    "init_session()"
   ]
  },
  {
   "cell_type": "markdown",
   "metadata": {},
   "source": [
    "En primer lugar se definen los símbolos que se van a emplear"
   ]
  },
  {
   "cell_type": "code",
   "execution_count": 8,
   "metadata": {},
   "outputs": [],
   "source": [
    "EA,EI, L, q = symbols('EA EI L q')"
   ]
  },
  {
   "cell_type": "code",
   "execution_count": 9,
   "metadata": {},
   "outputs": [],
   "source": [
    "matrig = Matrix([[EA/L, 0, 0, -EA/L, 0, 0],\n",
    "                [0, 12*EI/L**3, 6*EI/L**2, 0, -12*EI/L**3, 6*EI/L**2],\n",
    "                [0, 6*EI/L**2, 4*EI/L, 0, -6*EI/L**2, 2*EI/L],\n",
    "                [-EA/L, 0, 0, EA/L, 0, 0],\n",
    "                [0, -12*EI/L**3, -6*EI/L**2, 0, 12*EI/L**3, -6*EI/L**2],\n",
    "                [0, 6*EI/L**2, 2*EI/L, 0, -6*EI/L**2, 4*EI/L]])"
   ]
  },
  {
   "cell_type": "code",
   "execution_count": 10,
   "metadata": {},
   "outputs": [
    {
     "data": {
      "image/png": "[encoded data removed]",
      "text/latex": [
       "$\\displaystyle \\left[\\begin{matrix}\\frac{EA}{L} & 0 & 0 & - \\frac{EA}{L} & 0 & 0\\\\0 & \\frac{12 EI}{L^{3}} & \\frac{6 EI}{L^{2}} & 0 & - \\frac{12 EI}{L^{3}} & \\frac{6 EI}{L^{2}}\\\\0 & \\frac{6 EI}{L^{2}} & \\frac{4 EI}{L} & 0 & - \\frac{6 EI}{L^{2}} & \\frac{2 EI}{L}\\\\- \\frac{EA}{L} & 0 & 0 & \\frac{EA}{L} & 0 & 0\\\\0 & - \\frac{12 EI}{L^{3}} & - \\frac{6 EI}{L^{2}} & 0 & \\frac{12 EI}{L^{3}} & - \\frac{6 EI}{L^{2}}\\\\0 & \\frac{6 EI}{L^{2}} & \\frac{2 EI}{L} & 0 & - \\frac{6 EI}{L^{2}} & \\frac{4 EI}{L}\\end{matrix}\\right]$"
      ],
      "text/plain": [
       "⎡ EA                    -EA                  ⎤\n",
       "⎢ ──      0       0     ────     0       0   ⎥\n",
       "⎢ L                      L                   ⎥\n",
       "⎢                                            ⎥\n",
       "⎢       12⋅EI    6⋅EI         -12⋅EI    6⋅EI ⎥\n",
       "⎢ 0     ─────    ────    0    ───────   ──── ⎥\n",
       "⎢          3       2              3       2  ⎥\n",
       "⎢         L       L              L       L   ⎥\n",
       "⎢                                            ⎥\n",
       "⎢       6⋅EI     4⋅EI         -6⋅EI     2⋅EI ⎥\n",
       "⎢ 0     ────     ────    0    ──────    ──── ⎥\n",
       "⎢         2       L              2       L   ⎥\n",
       "⎢        L                      L            ⎥\n",
       "⎢                                            ⎥\n",
       "⎢-EA                     EA                  ⎥\n",
       "⎢────     0       0      ──      0       0   ⎥\n",
       "⎢ L                      L                   ⎥\n",
       "⎢                                            ⎥\n",
       "⎢      -12⋅EI   -6⋅EI          12⋅EI   -6⋅EI ⎥\n",
       "⎢ 0    ───────  ──────   0     ─────   ──────⎥\n",
       "⎢          3       2              3       2  ⎥\n",
       "⎢         L       L              L       L   ⎥\n",
       "⎢                                            ⎥\n",
       "⎢       6⋅EI     2⋅EI         -6⋅EI     4⋅EI ⎥\n",
       "⎢ 0     ────     ────    0    ──────    ──── ⎥\n",
       "⎢         2       L              2       L   ⎥\n",
       "⎣        L                      L            ⎦"
      ]
     },
     "execution_count": 10,
     "metadata": {},
     "output_type": "execute_result"
    }
   ],
   "source": [
    "matrig"
   ]
  },
  {
   "cell_type": "markdown",
   "metadata": {},
   "source": [
    "Verificamos que es simétrica: al restar la matriz a su traspuesta debe salir la matriz nula"
   ]
  },
  {
   "cell_type": "code",
   "execution_count": 11,
   "metadata": {},
   "outputs": [
    {
     "data": {
      "image/png": "[encoded data removed]",
      "text/latex": [
       "$\\displaystyle \\left[\\begin{matrix}0 & 0 & 0 & 0 & 0 & 0\\\\0 & 0 & 0 & 0 & 0 & 0\\\\0 & 0 & 0 & 0 & 0 & 0\\\\0 & 0 & 0 & 0 & 0 & 0\\\\0 & 0 & 0 & 0 & 0 & 0\\\\0 & 0 & 0 & 0 & 0 & 0\\end{matrix}\\right]$"
      ],
      "text/plain": [
       "⎡0  0  0  0  0  0⎤\n",
       "⎢                ⎥\n",
       "⎢0  0  0  0  0  0⎥\n",
       "⎢                ⎥\n",
       "⎢0  0  0  0  0  0⎥\n",
       "⎢                ⎥\n",
       "⎢0  0  0  0  0  0⎥\n",
       "⎢                ⎥\n",
       "⎢0  0  0  0  0  0⎥\n",
       "⎢                ⎥\n",
       "⎣0  0  0  0  0  0⎦"
      ]
     },
     "execution_count": 11,
     "metadata": {},
     "output_type": "execute_result"
    }
   ],
   "source": [
    "matrig.T - matrig"
   ]
  },
  {
   "cell_type": "markdown",
   "metadata": {},
   "source": [
    "El vector de fuerzas de empotramiento es: "
   ]
  },
  {
   "cell_type": "code",
   "execution_count": 12,
   "metadata": {},
   "outputs": [
    {
     "data": {
      "image/png": "[encoded data removed]",
      "text/latex": [
       "$\\displaystyle \\left[\\begin{matrix}0\\\\\\frac{L q}{2}\\\\\\frac{L^{2} q}{12}\\\\0\\\\\\frac{L q}{2}\\\\- \\frac{L^{2} q}{12}\\end{matrix}\\right]$"
      ],
      "text/plain": [
       "⎡  0   ⎤\n",
       "⎢      ⎥\n",
       "⎢ L⋅q  ⎥\n",
       "⎢ ───  ⎥\n",
       "⎢  2   ⎥\n",
       "⎢      ⎥\n",
       "⎢  2   ⎥\n",
       "⎢ L ⋅q ⎥\n",
       "⎢ ──── ⎥\n",
       "⎢  12  ⎥\n",
       "⎢      ⎥\n",
       "⎢  0   ⎥\n",
       "⎢      ⎥\n",
       "⎢ L⋅q  ⎥\n",
       "⎢ ───  ⎥\n",
       "⎢  2   ⎥\n",
       "⎢      ⎥\n",
       "⎢  2   ⎥\n",
       "⎢-L ⋅q ⎥\n",
       "⎢──────⎥\n",
       "⎣  12  ⎦"
      ]
     },
     "execution_count": 12,
     "metadata": {},
     "output_type": "execute_result"
    }
   ],
   "source": [
    "Femp = Matrix([[0, q*L/2, q*L**2/12, 0, q*L/2, -q*L**2/12]]).T\n",
    "Femp"
   ]
  },
  {
   "cell_type": "markdown",
   "metadata": {},
   "source": [
    "A continuación se definen las submatrices necesarias para las operaciones matriciales. Puesto que se condensa el giro en el extremo 2, se ha de considerar la fila sexta. "
   ]
  },
  {
   "cell_type": "code",
   "execution_count": 13,
   "metadata": {},
   "outputs": [],
   "source": [
    "Kbb = matrig[5,5]"
   ]
  },
  {
   "cell_type": "code",
   "execution_count": 14,
   "metadata": {},
   "outputs": [
    {
     "data": {
      "image/png": "[encoded data removed]",
      "text/latex": [
       "$\\displaystyle \\frac{4 EI}{L}$"
      ],
      "text/plain": [
       "4⋅EI\n",
       "────\n",
       " L  "
      ]
     },
     "execution_count": 14,
     "metadata": {},
     "output_type": "execute_result"
    }
   ],
   "source": [
    "Kbb"
   ]
  },
  {
   "cell_type": "code",
   "execution_count": 15,
   "metadata": {},
   "outputs": [
    {
     "data": {
      "image/png": "[encoded data removed]",
      "text/latex": [
       "$\\displaystyle \\left[\\begin{matrix}\\frac{EA}{L} & 0 & 0 & - \\frac{EA}{L} & 0\\\\0 & \\frac{12 EI}{L^{3}} & \\frac{6 EI}{L^{2}} & 0 & - \\frac{12 EI}{L^{3}}\\\\0 & \\frac{6 EI}{L^{2}} & \\frac{4 EI}{L} & 0 & - \\frac{6 EI}{L^{2}}\\\\- \\frac{EA}{L} & 0 & 0 & \\frac{EA}{L} & 0\\\\0 & - \\frac{12 EI}{L^{3}} & - \\frac{6 EI}{L^{2}} & 0 & \\frac{12 EI}{L^{3}}\\end{matrix}\\right]$"
      ],
      "text/plain": [
       "⎡ EA                    -EA          ⎤\n",
       "⎢ ──      0       0     ────     0   ⎥\n",
       "⎢ L                      L           ⎥\n",
       "⎢                                    ⎥\n",
       "⎢       12⋅EI    6⋅EI         -12⋅EI ⎥\n",
       "⎢ 0     ─────    ────    0    ───────⎥\n",
       "⎢          3       2              3  ⎥\n",
       "⎢         L       L              L   ⎥\n",
       "⎢                                    ⎥\n",
       "⎢       6⋅EI     4⋅EI         -6⋅EI  ⎥\n",
       "⎢ 0     ────     ────    0    ────── ⎥\n",
       "⎢         2       L              2   ⎥\n",
       "⎢        L                      L    ⎥\n",
       "⎢                                    ⎥\n",
       "⎢-EA                     EA          ⎥\n",
       "⎢────     0       0      ──      0   ⎥\n",
       "⎢ L                      L           ⎥\n",
       "⎢                                    ⎥\n",
       "⎢      -12⋅EI   -6⋅EI          12⋅EI ⎥\n",
       "⎢ 0    ───────  ──────   0     ───── ⎥\n",
       "⎢          3       2              3  ⎥\n",
       "⎣         L       L              L   ⎦"
      ]
     },
     "execution_count": 15,
     "metadata": {},
     "output_type": "execute_result"
    }
   ],
   "source": [
    "Kaa = matrig[0:5,0:5]\n",
    "Kaa"
   ]
  },
  {
   "cell_type": "code",
   "execution_count": 16,
   "metadata": {},
   "outputs": [
    {
     "data": {
      "image/png": "[encoded data removed]",
      "text/latex": [
       "$\\displaystyle \\left[\\begin{matrix}0\\\\\\frac{6 EI}{L^{2}}\\\\\\frac{2 EI}{L}\\\\0\\\\- \\frac{6 EI}{L^{2}}\\end{matrix}\\right]$"
      ],
      "text/plain": [
       "⎡  0   ⎤\n",
       "⎢      ⎥\n",
       "⎢ 6⋅EI ⎥\n",
       "⎢ ──── ⎥\n",
       "⎢   2  ⎥\n",
       "⎢  L   ⎥\n",
       "⎢      ⎥\n",
       "⎢ 2⋅EI ⎥\n",
       "⎢ ──── ⎥\n",
       "⎢  L   ⎥\n",
       "⎢      ⎥\n",
       "⎢  0   ⎥\n",
       "⎢      ⎥\n",
       "⎢-6⋅EI ⎥\n",
       "⎢──────⎥\n",
       "⎢   2  ⎥\n",
       "⎣  L   ⎦"
      ]
     },
     "execution_count": 16,
     "metadata": {},
     "output_type": "execute_result"
    }
   ],
   "source": [
    "Kab = matrig[0:5,5]\n",
    "Kab"
   ]
  },
  {
   "cell_type": "code",
   "execution_count": 17,
   "metadata": {},
   "outputs": [
    {
     "data": {
      "image/png": "[encoded data removed]",
      "text/latex": [
       "$\\displaystyle \\left[\\begin{matrix}0 & \\frac{6 EI}{L^{2}} & \\frac{2 EI}{L} & 0 & - \\frac{6 EI}{L^{2}}\\end{matrix}\\right]$"
      ],
      "text/plain": [
       "⎡   6⋅EI  2⋅EI     -6⋅EI ⎤\n",
       "⎢0  ────  ────  0  ──────⎥\n",
       "⎢     2    L          2  ⎥\n",
       "⎣    L               L   ⎦"
      ]
     },
     "execution_count": 17,
     "metadata": {},
     "output_type": "execute_result"
    }
   ],
   "source": [
    "Kba = matrig[5,0:5]\n",
    "Kba"
   ]
  },
  {
   "cell_type": "markdown",
   "metadata": {},
   "source": [
    "### Cálculo de la matriz de rigidez condensada\n",
    "\n",
    "En esta ocasión se tiene en cuenta que la matriz $\\mathbf{K_{BB}}$ es un escalar. "
   ]
  },
  {
   "cell_type": "code",
   "execution_count": 18,
   "metadata": {},
   "outputs": [],
   "source": [
    "Krig_condensada_giro = Kaa-Kab.multiply(Kba)/Kbb"
   ]
  },
  {
   "cell_type": "code",
   "execution_count": 19,
   "metadata": {},
   "outputs": [
    {
     "data": {
      "image/png": "[encoded data removed]",
      "text/latex": [
       "$\\displaystyle \\left[\\begin{matrix}\\frac{EA}{L} & 0 & 0 & - \\frac{EA}{L} & 0\\\\0 & \\frac{3 EI}{L^{3}} & \\frac{3 EI}{L^{2}} & 0 & - \\frac{3 EI}{L^{3}}\\\\0 & \\frac{3 EI}{L^{2}} & \\frac{3 EI}{L} & 0 & - \\frac{3 EI}{L^{2}}\\\\- \\frac{EA}{L} & 0 & 0 & \\frac{EA}{L} & 0\\\\0 & - \\frac{3 EI}{L^{3}} & - \\frac{3 EI}{L^{2}} & 0 & \\frac{3 EI}{L^{3}}\\end{matrix}\\right]$"
      ],
      "text/plain": [
       "⎡ EA                   -EA         ⎤\n",
       "⎢ ──     0       0     ────    0   ⎥\n",
       "⎢ L                     L          ⎥\n",
       "⎢                                  ⎥\n",
       "⎢       3⋅EI    3⋅EI         -3⋅EI ⎥\n",
       "⎢ 0     ────    ────    0    ──────⎥\n",
       "⎢         3       2             3  ⎥\n",
       "⎢        L       L             L   ⎥\n",
       "⎢                                  ⎥\n",
       "⎢       3⋅EI    3⋅EI         -3⋅EI ⎥\n",
       "⎢ 0     ────    ────    0    ──────⎥\n",
       "⎢         2      L              2  ⎥\n",
       "⎢        L                     L   ⎥\n",
       "⎢                                  ⎥\n",
       "⎢-EA                    EA         ⎥\n",
       "⎢────    0       0      ──     0   ⎥\n",
       "⎢ L                     L          ⎥\n",
       "⎢                                  ⎥\n",
       "⎢      -3⋅EI   -3⋅EI          3⋅EI ⎥\n",
       "⎢ 0    ──────  ──────   0     ──── ⎥\n",
       "⎢         3       2             3  ⎥\n",
       "⎣        L       L             L   ⎦"
      ]
     },
     "execution_count": 19,
     "metadata": {},
     "output_type": "execute_result"
    }
   ],
   "source": [
    "Krig_condensada_giro"
   ]
  },
  {
   "cell_type": "markdown",
   "metadata": {
    "collapsed": true
   },
   "source": [
    "Se observa que esta matriz coincide con la que se ha definido en la asignatura para la barra empotrada-articulada. Esta matriz aparece en el apartado B.2. del libro de la asignatura, \"Cálculo Matricial de Estructuras\", de E. Puertas, A. Martínez, F. Ávila y R. Gallego, de la Universidad de Granada\"."
   ]
  },
  {
   "cell_type": "markdown",
   "metadata": {},
   "source": [
    "### Cálculo del vector de fuerzas de empotramiento\n",
    "\n",
    "El nuevo vector de fuerzas de empotramiento ha de obtenerse mediante operaciones matriciales: "
   ]
  },
  {
   "cell_type": "code",
   "execution_count": 20,
   "metadata": {},
   "outputs": [],
   "source": [
    "Fa = Femp[0:5,0]"
   ]
  },
  {
   "cell_type": "code",
   "execution_count": 21,
   "metadata": {},
   "outputs": [
    {
     "data": {
      "image/png": "[encoded data removed]",
      "text/latex": [
       "$\\displaystyle \\left[\\begin{matrix}0\\\\\\frac{L q}{2}\\\\\\frac{L^{2} q}{12}\\\\0\\\\\\frac{L q}{2}\\end{matrix}\\right]$"
      ],
      "text/plain": [
       "⎡ 0  ⎤\n",
       "⎢    ⎥\n",
       "⎢L⋅q ⎥\n",
       "⎢─── ⎥\n",
       "⎢ 2  ⎥\n",
       "⎢    ⎥\n",
       "⎢ 2  ⎥\n",
       "⎢L ⋅q⎥\n",
       "⎢────⎥\n",
       "⎢ 12 ⎥\n",
       "⎢    ⎥\n",
       "⎢ 0  ⎥\n",
       "⎢    ⎥\n",
       "⎢L⋅q ⎥\n",
       "⎢─── ⎥\n",
       "⎣ 2  ⎦"
      ]
     },
     "execution_count": 21,
     "metadata": {},
     "output_type": "execute_result"
    }
   ],
   "source": [
    "Fa"
   ]
  },
  {
   "cell_type": "code",
   "execution_count": 22,
   "metadata": {},
   "outputs": [
    {
     "data": {
      "image/png": "[encoded data removed]",
      "text/latex": [
       "$\\displaystyle - \\frac{L^{2} q}{12}$"
      ],
      "text/plain": [
       "  2   \n",
       "-L ⋅q \n",
       "──────\n",
       "  12  "
      ]
     },
     "execution_count": 22,
     "metadata": {},
     "output_type": "execute_result"
    }
   ],
   "source": [
    "Fb = Femp[5,0]\n",
    "Fb"
   ]
  },
  {
   "cell_type": "code",
   "execution_count": 23,
   "metadata": {},
   "outputs": [],
   "source": [
    "Femp_condensada = Fa - Kab.multiply(Fb)/Kbb"
   ]
  },
  {
   "cell_type": "code",
   "execution_count": 24,
   "metadata": {},
   "outputs": [
    {
     "data": {
      "image/png": "[encoded data removed]",
      "text/latex": [
       "$\\displaystyle \\left[\\begin{matrix}0\\\\\\frac{5 L q}{8}\\\\\\frac{L^{2} q}{8}\\\\0\\\\\\frac{3 L q}{8}\\end{matrix}\\right]$"
      ],
      "text/plain": [
       "⎡  0  ⎤\n",
       "⎢     ⎥\n",
       "⎢5⋅L⋅q⎥\n",
       "⎢─────⎥\n",
       "⎢  8  ⎥\n",
       "⎢     ⎥\n",
       "⎢ 2   ⎥\n",
       "⎢L ⋅q ⎥\n",
       "⎢──── ⎥\n",
       "⎢ 8   ⎥\n",
       "⎢     ⎥\n",
       "⎢  0  ⎥\n",
       "⎢     ⎥\n",
       "⎢3⋅L⋅q⎥\n",
       "⎢─────⎥\n",
       "⎣  8  ⎦"
      ]
     },
     "execution_count": 24,
     "metadata": {},
     "output_type": "execute_result"
    }
   ],
   "source": [
    "Femp_condensada"
   ]
  },
  {
   "cell_type": "markdown",
   "metadata": {},
   "source": [
    "Que resulta una expresión idéntica a la obtenida para las fuerzas de empotramiento.\n",
    "\n",
    "En general, esta matriz de rigidez y vector de fuerzas de empotramiento deben definirse en el **sistema de coordenadas globales**. Para la matriz de rigidez, existe una matriz de cambio de base a coordenadas globales para cada caso de barra condensada. (Ver libro de la asignatura). "
   ]
  },
  {
   "cell_type": "markdown",
   "metadata": {},
   "source": [
    "##  Condensación estática del desplazamiento vertical en barra con deslizadera en el extremo\n",
    "\n",
    "En esta ocasión calcularemos la expresión simbólica de la matriz de rigidez de una barra en configuración empotrada-deslizadera, en coordenadas locales. El grado de libertad que se condensa es el desplazamiento vertical en el nudo $2$. Esta condensación es posible porque existe un dato en la fuerza vertical en el nudo \"2\", que es una fuerza vertical conocida en dicho nudo, de valor nulo (pues existe una deslizadera vertical). \n",
    "\n",
    "Partiremos de la matriz de rigidez de la barra completa: "
   ]
  },
  {
   "cell_type": "code",
   "execution_count": 25,
   "metadata": {},
   "outputs": [
    {
     "data": {
      "image/png": "[encoded data removed]",
      "text/latex": [
       "$\\displaystyle \\left[\\begin{matrix}\\frac{EA}{L} & 0 & 0 & - \\frac{EA}{L} & 0 & 0\\\\0 & \\frac{12 EI}{L^{3}} & \\frac{6 EI}{L^{2}} & 0 & - \\frac{12 EI}{L^{3}} & \\frac{6 EI}{L^{2}}\\\\0 & \\frac{6 EI}{L^{2}} & \\frac{4 EI}{L} & 0 & - \\frac{6 EI}{L^{2}} & \\frac{2 EI}{L}\\\\- \\frac{EA}{L} & 0 & 0 & \\frac{EA}{L} & 0 & 0\\\\0 & - \\frac{12 EI}{L^{3}} & - \\frac{6 EI}{L^{2}} & 0 & \\frac{12 EI}{L^{3}} & - \\frac{6 EI}{L^{2}}\\\\0 & \\frac{6 EI}{L^{2}} & \\frac{2 EI}{L} & 0 & - \\frac{6 EI}{L^{2}} & \\frac{4 EI}{L}\\end{matrix}\\right]$"
      ],
      "text/plain": [
       "⎡ EA                    -EA                  ⎤\n",
       "⎢ ──      0       0     ────     0       0   ⎥\n",
       "⎢ L                      L                   ⎥\n",
       "⎢                                            ⎥\n",
       "⎢       12⋅EI    6⋅EI         -12⋅EI    6⋅EI ⎥\n",
       "⎢ 0     ─────    ────    0    ───────   ──── ⎥\n",
       "⎢          3       2              3       2  ⎥\n",
       "⎢         L       L              L       L   ⎥\n",
       "⎢                                            ⎥\n",
       "⎢       6⋅EI     4⋅EI         -6⋅EI     2⋅EI ⎥\n",
       "⎢ 0     ────     ────    0    ──────    ──── ⎥\n",
       "⎢         2       L              2       L   ⎥\n",
       "⎢        L                      L            ⎥\n",
       "⎢                                            ⎥\n",
       "⎢-EA                     EA                  ⎥\n",
       "⎢────     0       0      ──      0       0   ⎥\n",
       "⎢ L                      L                   ⎥\n",
       "⎢                                            ⎥\n",
       "⎢      -12⋅EI   -6⋅EI          12⋅EI   -6⋅EI ⎥\n",
       "⎢ 0    ───────  ──────   0     ─────   ──────⎥\n",
       "⎢          3       2              3       2  ⎥\n",
       "⎢         L       L              L       L   ⎥\n",
       "⎢                                            ⎥\n",
       "⎢       6⋅EI     2⋅EI         -6⋅EI     4⋅EI ⎥\n",
       "⎢ 0     ────     ────    0    ──────    ──── ⎥\n",
       "⎢         2       L              2       L   ⎥\n",
       "⎣        L                      L            ⎦"
      ]
     },
     "execution_count": 25,
     "metadata": {},
     "output_type": "execute_result"
    }
   ],
   "source": [
    "matrig"
   ]
  },
  {
   "cell_type": "markdown",
   "metadata": {},
   "source": [
    "Definiremos las matrices $\\mathbf{K}_{AA}$,$\\mathbf{K}_{AB}$ y $\\mathbf{K}_{BB}$. En esta ocasión, la fila 5 es la fila que permite despejar el desplazamiento vertical en 2. Por tanto: "
   ]
  },
  {
   "cell_type": "code",
   "execution_count": 26,
   "metadata": {},
   "outputs": [
    {
     "data": {
      "image/png": "[encoded data removed]",
      "text/latex": [
       "$\\displaystyle \\frac{12 EI}{L^{3}}$"
      ],
      "text/plain": [
       "12⋅EI\n",
       "─────\n",
       "   3 \n",
       "  L  "
      ]
     },
     "execution_count": 26,
     "metadata": {},
     "output_type": "execute_result"
    }
   ],
   "source": [
    "Kbb = matrig[4,4]\n",
    "Kbb"
   ]
  },
  {
   "cell_type": "markdown",
   "metadata": {},
   "source": [
    "A continuación vamos a extraer de la matriz de rigidez las filas y columnas que forman la matriz $\\mathbf{K}_{BB}$. Para eso, vamos a usar funciones que borran la fila y columna 5 (para Python es la 4, pues empieza a indexar en 0 en vez de en 1)"
   ]
  },
  {
   "cell_type": "code",
   "execution_count": 27,
   "metadata": {},
   "outputs": [],
   "source": [
    "Kaa = matrig.copy() # Creamos una copia para que no se borre la original"
   ]
  },
  {
   "cell_type": "code",
   "execution_count": 28,
   "metadata": {},
   "outputs": [
    {
     "data": {
      "image/png": "[encoded data removed]",
      "text/latex": [
       "$\\displaystyle \\left[\\begin{matrix}\\frac{EA}{L} & 0 & 0 & - \\frac{EA}{L} & 0\\\\0 & \\frac{12 EI}{L^{3}} & \\frac{6 EI}{L^{2}} & 0 & \\frac{6 EI}{L^{2}}\\\\0 & \\frac{6 EI}{L^{2}} & \\frac{4 EI}{L} & 0 & \\frac{2 EI}{L}\\\\- \\frac{EA}{L} & 0 & 0 & \\frac{EA}{L} & 0\\\\0 & \\frac{6 EI}{L^{2}} & \\frac{2 EI}{L} & 0 & \\frac{4 EI}{L}\\end{matrix}\\right]$"
      ],
      "text/plain": [
       "⎡ EA                -EA       ⎤\n",
       "⎢ ──     0     0    ────   0  ⎥\n",
       "⎢ L                  L        ⎥\n",
       "⎢                             ⎥\n",
       "⎢      12⋅EI  6⋅EI        6⋅EI⎥\n",
       "⎢ 0    ─────  ────   0    ────⎥\n",
       "⎢         3     2           2 ⎥\n",
       "⎢        L     L           L  ⎥\n",
       "⎢                             ⎥\n",
       "⎢      6⋅EI   4⋅EI        2⋅EI⎥\n",
       "⎢ 0    ────   ────   0    ────⎥\n",
       "⎢        2     L           L  ⎥\n",
       "⎢       L                     ⎥\n",
       "⎢                             ⎥\n",
       "⎢-EA                 EA       ⎥\n",
       "⎢────    0     0     ──    0  ⎥\n",
       "⎢ L                  L        ⎥\n",
       "⎢                             ⎥\n",
       "⎢      6⋅EI   2⋅EI        4⋅EI⎥\n",
       "⎢ 0    ────   ────   0    ────⎥\n",
       "⎢        2     L           L  ⎥\n",
       "⎣       L                     ⎦"
      ]
     },
     "execution_count": 28,
     "metadata": {},
     "output_type": "execute_result"
    }
   ],
   "source": [
    "Kaa.col_del(4)\n",
    "Kaa.row_del(4)\n",
    "Kaa"
   ]
  },
  {
   "cell_type": "code",
   "execution_count": 29,
   "metadata": {},
   "outputs": [
    {
     "data": {
      "image/png": "[encoded data removed]",
      "text/latex": [
       "$\\displaystyle \\left[\\begin{matrix}0\\\\- \\frac{12 EI}{L^{3}}\\\\- \\frac{6 EI}{L^{2}}\\\\0\\\\- \\frac{6 EI}{L^{2}}\\end{matrix}\\right]$"
      ],
      "text/plain": [
       "⎡   0   ⎤\n",
       "⎢       ⎥\n",
       "⎢-12⋅EI ⎥\n",
       "⎢───────⎥\n",
       "⎢    3  ⎥\n",
       "⎢   L   ⎥\n",
       "⎢       ⎥\n",
       "⎢-6⋅EI  ⎥\n",
       "⎢────── ⎥\n",
       "⎢   2   ⎥\n",
       "⎢  L    ⎥\n",
       "⎢       ⎥\n",
       "⎢   0   ⎥\n",
       "⎢       ⎥\n",
       "⎢-6⋅EI  ⎥\n",
       "⎢────── ⎥\n",
       "⎢   2   ⎥\n",
       "⎣  L    ⎦"
      ]
     },
     "execution_count": 29,
     "metadata": {},
     "output_type": "execute_result"
    }
   ],
   "source": [
    "Kba = matrig[4,:]\n",
    "Kba.col_del(4)\n",
    "Kab = Kba.T\n",
    "Kab"
   ]
  },
  {
   "cell_type": "code",
   "execution_count": 30,
   "metadata": {},
   "outputs": [
    {
     "data": {
      "image/png": "[encoded data removed]",
      "text/latex": [
       "$\\displaystyle \\left[\\begin{matrix}\\frac{EA}{L} & 0 & 0 & - \\frac{EA}{L} & 0\\\\0 & 0 & 0 & 0 & 0\\\\0 & 0 & \\frac{EI}{L} & 0 & - \\frac{EI}{L}\\\\- \\frac{EA}{L} & 0 & 0 & \\frac{EA}{L} & 0\\\\0 & 0 & - \\frac{EI}{L} & 0 & \\frac{EI}{L}\\end{matrix}\\right]$"
      ],
      "text/plain": [
       "⎡ EA            -EA       ⎤\n",
       "⎢ ──   0   0    ────   0  ⎥\n",
       "⎢ L              L        ⎥\n",
       "⎢                         ⎥\n",
       "⎢ 0    0   0     0     0  ⎥\n",
       "⎢                         ⎥\n",
       "⎢          EI         -EI ⎥\n",
       "⎢ 0    0   ──    0    ────⎥\n",
       "⎢          L           L  ⎥\n",
       "⎢                         ⎥\n",
       "⎢-EA             EA       ⎥\n",
       "⎢────  0   0     ──    0  ⎥\n",
       "⎢ L              L        ⎥\n",
       "⎢                         ⎥\n",
       "⎢         -EI          EI ⎥\n",
       "⎢ 0    0  ────   0     ── ⎥\n",
       "⎣          L           L  ⎦"
      ]
     },
     "execution_count": 30,
     "metadata": {},
     "output_type": "execute_result"
    }
   ],
   "source": [
    "Krig_condensada_desp = Kaa-Kab.multiply(Kba)/Kbb\n",
    "Krig_condensada_desp"
   ]
  },
  {
   "cell_type": "markdown",
   "metadata": {},
   "source": [
    "Esta matriz coincide con la mostrada en el apartado B.4. del libro de la asignatura. Puede expresarse en el sistema de coordenadas global, mediante las matrices de cambio de base (ver expresión final en B.4). "
   ]
  },
  {
   "cell_type": "markdown",
   "metadata": {},
   "source": [
    "# Conclusión\n",
    "\n",
    "En este cuaderno se muestra que el concepto de \"condensación\" sólo aporta una palabra nueva, pero ya era un recurso  conocido: el método de sustitución en la resolución de sistemas de ecuaciones lineales. \n",
    "\n",
    "Se insiste una vez más en que **condensar no equivale a \"hacer cero\" ningún grado de libertad**. El hecho de que se eliminen esos grados de libertad en el sistema de ecuaciones final no debe llevar a pensar al alumno que dichos grados son nulos. Al contrario, existe una ecuación que permite reconstruir dichos grados de libertad. \n",
    "\n",
    "Aplicaremos de forma directa la condensación estática a una barra en cálculo matricial de tipo P2D, reduciendo de 6x6, a una matriz 5x5. Y lo haremos con dos configuraciones: \n",
    "\n",
    "+ Barra empotrada-articulada (o viceversa, articulada-empotrada). Se condensa el giro en la articulación. \n",
    "+ Barra empotrada-deslizadera (o viceversa, deslizadera-empotrada). Se condensa el desplazamiento vertical en la deslizadera. \n",
    "\n",
    "Al condensar, debe quedar claro que: \n",
    "\n",
    "+ El grado de libertad que se condensa NO APARECE en el vector de grados de libertad. \n",
    "+ La matriz de rigidez de la barra condensada es DIFERENTE. Debe tomarse de forma adecuada, y es una matriz 5x5 distinta y escrita en el libro de la asignatura. \n",
    "+ El vector de fuerzas de empotramiento es DIFERENTE al que se obtenía en la barra de 6 grados de libertad. Debe seleccionarse el caso de apoyos adecuado, en el prontuario de casos de fuerzas de empotramiento. Debe ser coherente con el tipo de barra condensada. "
   ]
  },
  {
   "cell_type": "code",
   "execution_count": null,
   "metadata": {},
   "outputs": [],
   "source": []
  }
 ],
 "metadata": {
  "kernelspec": {
   "display_name": "Python 3",
   "language": "python",
   "name": "python3"
  },
  "language_info": {
   "codemirror_mode": {
    "name": "ipython",
    "version": 3
   },
   "file_extension": ".py",
   "mimetype": "text/x-python",
   "name": "python",
   "nbconvert_exporter": "python",
   "pygments_lexer": "ipython3",
   "version": "3.7.3"
  },
  "nbTranslate": {
   "displayLangs": [
    "*"
   ],
   "hotkey": "alt-t",
   "langInMainMenu": true,
   "sourceLang": "en",
   "targetLang": "fr",
   "useGoogleTranslate": true
  },
  "varInspector": {
   "cols": {
    "lenName": 16,
    "lenType": 16,
    "lenVar": 40
   },
   "kernels_config": {
    "python": {
     "delete_cmd_postfix": "",
     "delete_cmd_prefix": "del ",
     "library": "var_list.py",
     "varRefreshCmd": "print(var_dic_list())"
    },
    "r": {
     "delete_cmd_postfix": ") ",
     "delete_cmd_prefix": "rm(",
     "library": "var_list.r",
     "varRefreshCmd": "cat(var_dic_list()) "
    }
   },
   "types_to_exclude": [
    "module",
    "function",
    "builtin_function_or_method",
    "instance",
    "_Feature"
   ],
   "window_display": false
  }
 },
 "nbformat": 4,
 "nbformat_minor": 2
}
