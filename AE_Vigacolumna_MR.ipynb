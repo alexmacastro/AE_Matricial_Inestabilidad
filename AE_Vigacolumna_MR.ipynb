{
 "cells": [
  {
   "cell_type": "markdown",
   "metadata": {
    "slideshow": {
     "slide_type": "slide"
    }
   },
   "source": [
    "# Matriz de rigidez de una viga-columna\n",
    "\n",
    "_Análisis de Estructuras. Grado en Ingeniería Civil_\n",
    "\n",
    "Autor:\n",
    "\n",
    "- Alejandro E. Martínez-Castro.\n",
    "- Departamento de Mecánica de Estructuras e Ingeniería Hidráulica. Universidad de Granada.\n",
    "\n",
    "<a rel=\"license\" href=\"http://creativecommons.org/licenses/by-nc-sa/4.0/\"><img alt=\"Licencia de Creative Commons\" style=\"border-width:0\" src=\"https://i.creativecommons.org/l/by-nc-sa/4.0/88x31.png\" /></a><br /><span xmlns:dct=\"http://purl.org/dc/terms/\" property=\"dct:title\">Matriz de rigidez de viga-columna</span> by <span xmlns:cc=\"http://creativecommons.org/ns#\" property=\"cc:attributionName\">Alejandro Martínez Castro</span> is licensed under a <a rel=\"license\" href=\"http://creativecommons.org/licenses/by-nc-sa/4.0/\">Creative Commons Reconocimiento-NoComercial-CompartirIgual 4.0 Internacional License</a>."
   ]
  },
  {
   "cell_type": "markdown",
   "metadata": {
    "slideshow": {
     "slide_type": "slide"
    }
   },
   "source": [
    "## Objetivos del cuaderno\n",
    "\n",
    "En este cuaderno se va a obtener la matriz de rigidez de una viga-columna a compresión. En la asignatura se codifica esta matriz en términos de cuatro funciones, denominadas _funciones de estabilidad_. En este cuaderno se demuestran dichas expresiones, con ayuda de la agilidad de cálculo de un asistente simbólico como Sympy.\n",
    "\n",
    "En este cuaderno se hace referencia al siguiente libro: \n",
    "\n",
    " _A. Martínez-Castro, E. Puertas, R. Gallego. \"Inestabilidad de estructuras. Inestabilidad de barras comprimidas y pandeo global de estructuras\". Ed. Godel._\n",
    "\n",
    "Los objetivos son: \n",
    "\n",
    "- Generación de las funciones de desplazamiento equivalentes a los polinomios de Hermite en flexión de vigas, pero incluyendo el comportamiento viga-columna a compresión. Estas funciones están generadas por una base trigonométrica. \n",
    "- Introducción de la metodología general para obtener las denominadas \"funciones de forma\", que más adelante se emplearán en el Método de los Elementos Finitos. \n",
    "- Determinación de los términos de las columnas de la matriz de rigidez mediante la evaluación directa de los esfuerzos cortante y flector en los extremos (teniendo en cuenta las expresiones para viga-columna), y sus relaciones con las fuerzas y momentos en los extremos de barra."
   ]
  },
  {
   "cell_type": "markdown",
   "metadata": {
    "slideshow": {
     "slide_type": "slide"
    }
   },
   "source": [
    "En primer lugar, cargaremos el paquete SymPy, para poder realizar cálculos simbólicos"
   ]
  },
  {
   "cell_type": "code",
   "execution_count": 1,
   "metadata": {
    "slideshow": {
     "slide_type": "-"
    }
   },
   "outputs": [
    {
     "name": "stdout",
     "output_type": "stream",
     "text": [
      "IPython console for SymPy 1.9 (Python 3.8.12-64-bit) (ground types: gmpy)\n",
      "\n",
      "These commands were executed:\n",
      ">>> from __future__ import division\n",
      ">>> from sympy import *\n",
      ">>> x, y, z, t = symbols('x y z t')\n",
      ">>> k, m, n = symbols('k m n', integer=True)\n",
      ">>> f, g, h = symbols('f g h', cls=Function)\n",
      ">>> init_printing()\n",
      "\n",
      "Documentation can be found at https://docs.sympy.org/1.9/\n",
      "\n"
     ]
    }
   ],
   "source": [
    "from sympy import init_session\n",
    "init_session()"
   ]
  },
  {
   "cell_type": "markdown",
   "metadata": {
    "slideshow": {
     "slide_type": "slide"
    }
   },
   "source": [
    "## Definición de matrices de base trigonométricas y su primera derivada\n",
    "\n",
    "Las soluciones para viga-columna sometida a carga de compresión $P$ están generadas por la base de funciones\n",
    "\n",
    "$$\\left[ 1,x,\\cos \\left(\\dfrac{\\mu}{L} x \\right), \\sin \\left(\\dfrac{\\mu}{L} x \\right) \\right]$$\n",
    "\n",
    "siendo $\\mu = L \\, \\sqrt{\\dfrac{P}{EI}}$, $P$ el esfuerzo axil de compresión, y $EI$ la rigidez de la viga (producto del módulo de elasticidad $E$ por el momento de inercia de la sección transversal $I$).\n",
    "\n",
    "Definiremos a continuación los símbolos $L$ y $\\mu$, y definiremos la base de funciones sobre la que se construirán las soluciones."
   ]
  },
  {
   "cell_type": "code",
   "execution_count": 2,
   "metadata": {
    "slideshow": {
     "slide_type": "-"
    }
   },
   "outputs": [
    {
     "data": {
      "image/png": "[encoded data removed]",
      "text/latex": [
       "$\\displaystyle \\left[\\begin{matrix}1 & x & \\cos{\\left(\\frac{\\mu x}{L} \\right)} & \\sin{\\left(\\frac{\\mu x}{L} \\right)}\\end{matrix}\\right]$"
      ],
      "text/plain": [
       "⎡         ⎛\\mu⋅x⎞     ⎛\\mu⋅x⎞⎤\n",
       "⎢1  x  cos⎜─────⎟  sin⎜─────⎟⎥\n",
       "⎣         ⎝  L  ⎠     ⎝  L  ⎠⎦"
      ]
     },
     "execution_count": 2,
     "metadata": {},
     "output_type": "execute_result"
    }
   ],
   "source": [
    "mu, L = symbols('\\mu L')\n",
    "base = Matrix([[1,x,cos(mu/L*x),sin(mu/L*x)]])\n",
    "base"
   ]
  },
  {
   "cell_type": "markdown",
   "metadata": {
    "slideshow": {
     "slide_type": "-"
    }
   },
   "source": [
    "Nótese que, a diferencia de las soluciones para vigas de Bernoulli-Euler, en esta ocasión el espacio de soluciones depende no sólo de $x$, que permitirá posicionar cada abscisa, sino también de $\\mu$, que definirá una forma diferente (sinusoidal) para cada carga $P$. Para valores crecientes de $P$, la forma presentará mayor número de pasos por 0 para el mismo intervalo de referencia. "
   ]
  },
  {
   "cell_type": "markdown",
   "metadata": {
    "slideshow": {
     "slide_type": "slide"
    }
   },
   "source": [
    "Definamos además una lista con la derivada primera de estas funciones de base, pues necesitaremos imponer condiciones en giros:"
   ]
  },
  {
   "cell_type": "code",
   "execution_count": 3,
   "metadata": {
    "slideshow": {
     "slide_type": "-"
    }
   },
   "outputs": [
    {
     "data": {
      "image/png": "[encoded data removed]",
      "text/latex": [
       "$\\displaystyle \\left[\\begin{matrix}0 & 1 & - \\frac{\\mu \\sin{\\left(\\frac{\\mu x}{L} \\right)}}{L} & \\frac{\\mu \\cos{\\left(\\frac{\\mu x}{L} \\right)}}{L}\\end{matrix}\\right]$"
      ],
      "text/plain": [
       "⎡              ⎛\\mu⋅x⎞          ⎛\\mu⋅x⎞⎤\n",
       "⎢      -\\mu⋅sin⎜─────⎟   \\mu⋅cos⎜─────⎟⎥\n",
       "⎢              ⎝  L  ⎠          ⎝  L  ⎠⎥\n",
       "⎢0  1  ────────────────  ──────────────⎥\n",
       "⎣             L                L       ⎦"
      ]
     },
     "execution_count": 3,
     "metadata": {},
     "output_type": "execute_result"
    }
   ],
   "source": [
    "deribase = diff(base,x)\n",
    "deribase"
   ]
  },
  {
   "cell_type": "markdown",
   "metadata": {
    "slideshow": {
     "slide_type": "slide"
    }
   },
   "source": [
    "## Construcción de la matriz de aplicaciones lineales asociadas a evaluar en los extremos del elemento viga-columna comprimida.\n",
    "\n",
    "A continuación, construiremos la matriz asociada a cuatro aplicaciones lineales (por filas). En cada fila, se construirán las siguientes matrices: \n",
    "- En la primera fila, la aplicación para evaluar en el origen, $x=0$.\n",
    "- En la segunda fila, la aplicación para evaluar la primera derivada en el origen $x=0$. \n",
    "- En la tercera fila, la aplicación para evaluar la función en $x=L$. \n",
    "- En la cuarta fila, la aplicación para evaluar la derivada de la función en $x=L$. "
   ]
  },
  {
   "cell_type": "code",
   "execution_count": 4,
   "metadata": {
    "slideshow": {
     "slide_type": "-"
    }
   },
   "outputs": [
    {
     "data": {
      "image/png": "[encoded data removed]",
      "text/latex": [
       "$\\displaystyle \\left[\\begin{matrix}1 & 0 & 1 & 0\\\\0 & 1 & 0 & \\frac{\\mu}{L}\\\\1 & L & \\cos{\\left(\\mu \\right)} & \\sin{\\left(\\mu \\right)}\\\\0 & 1 & - \\frac{\\mu \\sin{\\left(\\mu \\right)}}{L} & \\frac{\\mu \\cos{\\left(\\mu \\right)}}{L}\\end{matrix}\\right]$"
      ],
      "text/plain": [
       "⎡1  0        1              0      ⎤\n",
       "⎢                                  ⎥\n",
       "⎢                          \\mu     ⎥\n",
       "⎢0  1        0             ───     ⎥\n",
       "⎢                           L      ⎥\n",
       "⎢                                  ⎥\n",
       "⎢1  L     cos(\\mu)       sin(\\mu)  ⎥\n",
       "⎢                                  ⎥\n",
       "⎢      -\\mu⋅sin(\\mu)   \\mu⋅cos(\\mu)⎥\n",
       "⎢0  1  ──────────────  ────────────⎥\n",
       "⎣            L              L      ⎦"
      ]
     },
     "execution_count": 4,
     "metadata": {},
     "output_type": "execute_result"
    }
   ],
   "source": [
    "matM = Matrix.vstack(base.subs(x,0),\n",
    "                     deribase.subs(x,0),\n",
    "                       base.subs(x, L),\n",
    "                     deribase.subs(x,L))\n",
    "matM"
   ]
  },
  {
   "cell_type": "markdown",
   "metadata": {
    "slideshow": {
     "slide_type": "slide"
    }
   },
   "source": [
    "La inversa de esta matriz, por columnas, contiene los cuatro coeficientes que multiplicarán a la base para construir las cuatro funciones $N1(x), N2(x), N3(x), N4(x)$. "
   ]
  },
  {
   "cell_type": "code",
   "execution_count": 5,
   "metadata": {
    "slideshow": {
     "slide_type": "-"
    }
   },
   "outputs": [
    {
     "data": {
      "image/png": "[encoded data removed]",
      "text/latex": [
       "$\\displaystyle \\left[\\begin{matrix}\\frac{\\mu \\sin{\\left(\\mu \\right)} - \\sin^{2}{\\left(\\mu \\right)} - \\cos^{2}{\\left(\\mu \\right)} + \\cos{\\left(\\mu \\right)}}{\\mu \\sin{\\left(\\mu \\right)} - \\sin^{2}{\\left(\\mu \\right)} - \\cos^{2}{\\left(\\mu \\right)} + 2 \\cos{\\left(\\mu \\right)} - 1} & \\frac{- L \\mu \\cos{\\left(\\mu \\right)} + L \\sin{\\left(\\mu \\right)}}{\\mu^{2} \\sin{\\left(\\mu \\right)} - \\mu \\sin^{2}{\\left(\\mu \\right)} - \\mu \\cos^{2}{\\left(\\mu \\right)} + 2 \\mu \\cos{\\left(\\mu \\right)} - \\mu} & \\frac{\\cos{\\left(\\mu \\right)} - 1}{\\mu \\sin{\\left(\\mu \\right)} - \\sin^{2}{\\left(\\mu \\right)} - \\cos^{2}{\\left(\\mu \\right)} + 2 \\cos{\\left(\\mu \\right)} - 1} & \\frac{L \\mu - L \\sin{\\left(\\mu \\right)}}{\\mu^{2} \\sin{\\left(\\mu \\right)} - \\mu \\sin^{2}{\\left(\\mu \\right)} - \\mu \\cos^{2}{\\left(\\mu \\right)} + 2 \\mu \\cos{\\left(\\mu \\right)} - \\mu}\\\\- \\frac{\\mu \\sin{\\left(\\mu \\right)}}{L \\mu \\sin{\\left(\\mu \\right)} - L \\sin^{2}{\\left(\\mu \\right)} - L \\cos^{2}{\\left(\\mu \\right)} + 2 L \\cos{\\left(\\mu \\right)} - L} & \\frac{- \\sin^{2}{\\left(\\mu \\right)} - \\cos^{2}{\\left(\\mu \\right)} + \\cos{\\left(\\mu \\right)}}{\\mu \\sin{\\left(\\mu \\right)} - \\sin^{2}{\\left(\\mu \\right)} - \\cos^{2}{\\left(\\mu \\right)} + 2 \\cos{\\left(\\mu \\right)} - 1} & \\frac{\\mu \\sin{\\left(\\mu \\right)}}{L \\mu \\sin{\\left(\\mu \\right)} - L \\sin^{2}{\\left(\\mu \\right)} - L \\cos^{2}{\\left(\\mu \\right)} + 2 L \\cos{\\left(\\mu \\right)} - L} & \\frac{\\cos{\\left(\\mu \\right)} - 1}{\\mu \\sin{\\left(\\mu \\right)} - \\sin^{2}{\\left(\\mu \\right)} - \\cos^{2}{\\left(\\mu \\right)} + 2 \\cos{\\left(\\mu \\right)} - 1}\\\\\\frac{\\cos{\\left(\\mu \\right)} - 1}{\\mu \\sin{\\left(\\mu \\right)} - \\sin^{2}{\\left(\\mu \\right)} - \\cos^{2}{\\left(\\mu \\right)} + 2 \\cos{\\left(\\mu \\right)} - 1} & \\frac{L \\mu \\cos{\\left(\\mu \\right)} - L \\sin{\\left(\\mu \\right)}}{\\mu^{2} \\sin{\\left(\\mu \\right)} - \\mu \\sin^{2}{\\left(\\mu \\right)} - \\mu \\cos^{2}{\\left(\\mu \\right)} + 2 \\mu \\cos{\\left(\\mu \\right)} - \\mu} & \\frac{1 - \\cos{\\left(\\mu \\right)}}{\\mu \\sin{\\left(\\mu \\right)} - \\sin^{2}{\\left(\\mu \\right)} - \\cos^{2}{\\left(\\mu \\right)} + 2 \\cos{\\left(\\mu \\right)} - 1} & \\frac{- L \\mu + L \\sin{\\left(\\mu \\right)}}{\\mu^{2} \\sin{\\left(\\mu \\right)} - \\mu \\sin^{2}{\\left(\\mu \\right)} - \\mu \\cos^{2}{\\left(\\mu \\right)} + 2 \\mu \\cos{\\left(\\mu \\right)} - \\mu}\\\\\\frac{\\sin{\\left(\\mu \\right)}}{\\mu \\sin{\\left(\\mu \\right)} - \\sin^{2}{\\left(\\mu \\right)} - \\cos^{2}{\\left(\\mu \\right)} + 2 \\cos{\\left(\\mu \\right)} - 1} & \\frac{L \\mu \\sin{\\left(\\mu \\right)} + L \\cos{\\left(\\mu \\right)} - L}{\\mu^{2} \\sin{\\left(\\mu \\right)} - \\mu \\sin^{2}{\\left(\\mu \\right)} - \\mu \\cos^{2}{\\left(\\mu \\right)} + 2 \\mu \\cos{\\left(\\mu \\right)} - \\mu} & - \\frac{\\sin{\\left(\\mu \\right)}}{\\mu \\sin{\\left(\\mu \\right)} - \\sin^{2}{\\left(\\mu \\right)} - \\cos^{2}{\\left(\\mu \\right)} + 2 \\cos{\\left(\\mu \\right)} - 1} & \\frac{- L \\cos{\\left(\\mu \\right)} + L}{\\mu^{2} \\sin{\\left(\\mu \\right)} - \\mu \\sin^{2}{\\left(\\mu \\right)} - \\mu \\cos^{2}{\\left(\\mu \\right)} + 2 \\mu \\cos{\\left(\\mu \\right)} - \\mu}\\end{matrix}\\right]$"
      ],
      "text/plain": [
       "⎡                         2           2                                       \n",
       "⎢       \\mu⋅sin(\\mu) - sin (\\mu) - cos (\\mu) + cos(\\mu)                       \n",
       "⎢    ─────────────────────────────────────────────────────      ──────────────\n",
       "⎢                      2           2                               2          \n",
       "⎢    \\mu⋅sin(\\mu) - sin (\\mu) - cos (\\mu) + 2⋅cos(\\mu) - 1      \\mu ⋅sin(\\mu) \n",
       "⎢                                                                             \n",
       "⎢                                                                             \n",
       "⎢                        -\\mu⋅sin(\\mu)                                        \n",
       "⎢─────────────────────────────────────────────────────────────         ───────\n",
       "⎢                      2             2                                        \n",
       "⎢L⋅\\mu⋅sin(\\mu) - L⋅sin (\\mu) - L⋅cos (\\mu) + 2⋅L⋅cos(\\mu) - L         \\mu⋅sin\n",
       "⎢                                                                             \n",
       "⎢                         cos(\\mu) - 1                                        \n",
       "⎢    ─────────────────────────────────────────────────────      ──────────────\n",
       "⎢                      2           2                               2          \n",
       "⎢    \\mu⋅sin(\\mu) - sin (\\mu) - cos (\\mu) + 2⋅cos(\\mu) - 1      \\mu ⋅sin(\\mu) \n",
       "⎢                                                                             \n",
       "⎢                           sin(\\mu)                                          \n",
       "⎢    ─────────────────────────────────────────────────────      ──────────────\n",
       "⎢                      2           2                               2          \n",
       "⎣    \\mu⋅sin(\\mu) - sin (\\mu) - cos (\\mu) + 2⋅cos(\\mu) - 1      \\mu ⋅sin(\\mu) \n",
       "\n",
       "                                                                              \n",
       "      -L⋅\\mu⋅cos(\\mu) + L⋅sin(\\mu)                                            \n",
       "──────────────────────────────────────────────────────      ──────────────────\n",
       "         2               2                                                    \n",
       "- \\mu⋅sin (\\mu) - \\mu⋅cos (\\mu) + 2⋅\\mu⋅cos(\\mu) - \\mu      \\mu⋅sin(\\mu) - sin\n",
       "                                                                              \n",
       "        2           2                                                         \n",
       "   - sin (\\mu) - cos (\\mu) + cos(\\mu)                                         \n",
       "──────────────────────────────────────────────          ──────────────────────\n",
       "           2           2                                                      \n",
       "(\\mu) - sin (\\mu) - cos (\\mu) + 2⋅cos(\\mu) - 1          L⋅\\mu⋅sin(\\mu) - L⋅sin\n",
       "                                                                              \n",
       "      L⋅\\mu⋅cos(\\mu) - L⋅sin(\\mu)                                             \n",
       "──────────────────────────────────────────────────────      ──────────────────\n",
       "         2               2                                                    \n",
       "- \\mu⋅sin (\\mu) - \\mu⋅cos (\\mu) + 2⋅\\mu⋅cos(\\mu) - \\mu      \\mu⋅sin(\\mu) - sin\n",
       "                                                                              \n",
       "    L⋅\\mu⋅sin(\\mu) + L⋅cos(\\mu) - L                                           \n",
       "──────────────────────────────────────────────────────      ──────────────────\n",
       "         2               2                                                    \n",
       "- \\mu⋅sin (\\mu) - \\mu⋅cos (\\mu) + 2⋅\\mu⋅cos(\\mu) - \\mu      \\mu⋅sin(\\mu) - sin\n",
       "\n",
       "                                                                              \n",
       "   cos(\\mu) - 1                                                   L⋅\\mu - L⋅si\n",
       "───────────────────────────────────      ─────────────────────────────────────\n",
       "2           2                               2                   2             \n",
       " (\\mu) - cos (\\mu) + 2⋅cos(\\mu) - 1      \\mu ⋅sin(\\mu) - \\mu⋅sin (\\mu) - \\mu⋅c\n",
       "                                                                              \n",
       "                                                                              \n",
       "   \\mu⋅sin(\\mu)                                                      cos(\\mu) \n",
       "───────────────────────────────────────         ──────────────────────────────\n",
       "2             2                                                   2           \n",
       " (\\mu) - L⋅cos (\\mu) + 2⋅L⋅cos(\\mu) - L         \\mu⋅sin(\\mu) - sin (\\mu) - cos\n",
       "                                                                              \n",
       "   1 - cos(\\mu)                                                  -L⋅\\mu + L⋅si\n",
       "───────────────────────────────────      ─────────────────────────────────────\n",
       "2           2                               2                   2             \n",
       " (\\mu) - cos (\\mu) + 2⋅cos(\\mu) - 1      \\mu ⋅sin(\\mu) - \\mu⋅sin (\\mu) - \\mu⋅c\n",
       "                                                                              \n",
       "    -sin(\\mu)                                                      -L⋅cos(\\mu)\n",
       "───────────────────────────────────      ─────────────────────────────────────\n",
       "2           2                               2                   2             \n",
       " (\\mu) - cos (\\mu) + 2⋅cos(\\mu) - 1      \\mu ⋅sin(\\mu) - \\mu⋅sin (\\mu) - \\mu⋅c\n",
       "\n",
       "                               ⎤\n",
       "n(\\mu)                         ⎥\n",
       "───────────────────────────────⎥\n",
       "  2                            ⎥\n",
       "os (\\mu) + 2⋅\\mu⋅cos(\\mu) - \\mu⎥\n",
       "                               ⎥\n",
       "                               ⎥\n",
       "- 1                            ⎥\n",
       "───────────────────────        ⎥\n",
       "2                              ⎥\n",
       " (\\mu) + 2⋅cos(\\mu) - 1        ⎥\n",
       "                               ⎥\n",
       "n(\\mu)                         ⎥\n",
       "───────────────────────────────⎥\n",
       "  2                            ⎥\n",
       "os (\\mu) + 2⋅\\mu⋅cos(\\mu) - \\mu⎥\n",
       "                               ⎥\n",
       " + L                           ⎥\n",
       "───────────────────────────────⎥\n",
       "  2                            ⎥\n",
       "os (\\mu) + 2⋅\\mu⋅cos(\\mu) - \\mu⎦"
      ]
     },
     "execution_count": 5,
     "metadata": {},
     "output_type": "execute_result"
    }
   ],
   "source": [
    "Inv_matM = matM.inv()\n",
    "Inv_matM"
   ]
  },
  {
   "cell_type": "markdown",
   "metadata": {
    "slideshow": {
     "slide_type": "slide"
    }
   },
   "source": [
    "En este caso, las expresiones son \"farragosas\". Vamos a simplificarlas. "
   ]
  },
  {
   "cell_type": "code",
   "execution_count": 6,
   "metadata": {
    "slideshow": {
     "slide_type": "-"
    }
   },
   "outputs": [
    {
     "data": {
      "image/png": "[encoded data removed]",
      "text/latex": [
       "$\\displaystyle \\left[\\begin{matrix}\\frac{\\mu \\sin{\\left(\\mu \\right)} + \\cos{\\left(\\mu \\right)} - 1}{\\mu \\sin{\\left(\\mu \\right)} + 2 \\cos{\\left(\\mu \\right)} - 2} & \\frac{L \\left(- \\mu \\cos{\\left(\\mu \\right)} + \\sin{\\left(\\mu \\right)}\\right)}{\\mu \\left(\\mu \\sin{\\left(\\mu \\right)} + 2 \\cos{\\left(\\mu \\right)} - 2\\right)} & \\frac{\\cos{\\left(\\mu \\right)} - 1}{\\mu \\sin{\\left(\\mu \\right)} + 2 \\cos{\\left(\\mu \\right)} - 2} & \\frac{L \\left(\\mu - \\sin{\\left(\\mu \\right)}\\right)}{\\mu \\left(\\mu \\sin{\\left(\\mu \\right)} + 2 \\cos{\\left(\\mu \\right)} - 2\\right)}\\\\\\frac{\\mu \\sin{\\left(\\mu \\right)}}{L \\left(- \\mu \\sin{\\left(\\mu \\right)} - 2 \\cos{\\left(\\mu \\right)} + 2\\right)} & \\frac{\\cos{\\left(\\mu \\right)} - 1}{\\mu \\sin{\\left(\\mu \\right)} + 2 \\cos{\\left(\\mu \\right)} - 2} & \\frac{\\mu \\sin{\\left(\\mu \\right)}}{L \\left(\\mu \\sin{\\left(\\mu \\right)} + 2 \\cos{\\left(\\mu \\right)} - 2\\right)} & \\frac{\\cos{\\left(\\mu \\right)} - 1}{\\mu \\sin{\\left(\\mu \\right)} + 2 \\cos{\\left(\\mu \\right)} - 2}\\\\\\frac{\\cos{\\left(\\mu \\right)} - 1}{\\mu \\sin{\\left(\\mu \\right)} + 2 \\cos{\\left(\\mu \\right)} - 2} & \\frac{L \\left(- \\mu \\cos{\\left(\\mu \\right)} + \\sin{\\left(\\mu \\right)}\\right)}{\\mu \\left(- \\mu \\sin{\\left(\\mu \\right)} - 2 \\cos{\\left(\\mu \\right)} + 2\\right)} & \\frac{\\cos{\\left(\\mu \\right)} - 1}{- \\mu \\sin{\\left(\\mu \\right)} - 2 \\cos{\\left(\\mu \\right)} + 2} & \\frac{L \\left(- \\mu + \\sin{\\left(\\mu \\right)}\\right)}{\\mu \\left(\\mu \\sin{\\left(\\mu \\right)} + 2 \\cos{\\left(\\mu \\right)} - 2\\right)}\\\\\\frac{\\sin{\\left(\\mu \\right)}}{\\mu \\sin{\\left(\\mu \\right)} + 2 \\cos{\\left(\\mu \\right)} - 2} & \\frac{L \\left(\\mu \\sin{\\left(\\mu \\right)} + \\cos{\\left(\\mu \\right)} - 1\\right)}{\\mu \\left(\\mu \\sin{\\left(\\mu \\right)} + 2 \\cos{\\left(\\mu \\right)} - 2\\right)} & \\frac{\\sin{\\left(\\mu \\right)}}{- \\mu \\sin{\\left(\\mu \\right)} - 2 \\cos{\\left(\\mu \\right)} + 2} & \\frac{L \\left(\\cos{\\left(\\mu \\right)} - 1\\right)}{\\mu \\left(- \\mu \\sin{\\left(\\mu \\right)} - 2 \\cos{\\left(\\mu \\right)} + 2\\right)}\\end{matrix}\\right]$"
      ],
      "text/plain": [
       "⎡   \\mu⋅sin(\\mu) + cos(\\mu) - 1          L⋅(-\\mu⋅cos(\\mu) + sin(\\mu))         \n",
       "⎢  ─────────────────────────────     ───────────────────────────────────     ─\n",
       "⎢  \\mu⋅sin(\\mu) + 2⋅cos(\\mu) - 2     \\mu⋅(\\mu⋅sin(\\mu) + 2⋅cos(\\mu) - 2)     \\\n",
       "⎢                                                                             \n",
       "⎢           \\mu⋅sin(\\mu)                         cos(\\mu) - 1                 \n",
       "⎢──────────────────────────────────     ─────────────────────────────      ───\n",
       "⎢L⋅(-\\mu⋅sin(\\mu) - 2⋅cos(\\mu) + 2)     \\mu⋅sin(\\mu) + 2⋅cos(\\mu) - 2      L⋅(\n",
       "⎢                                                                             \n",
       "⎢           cos(\\mu) - 1                 L⋅(-\\mu⋅cos(\\mu) + sin(\\mu))         \n",
       "⎢  ─────────────────────────────     ────────────────────────────────────   ──\n",
       "⎢  \\mu⋅sin(\\mu) + 2⋅cos(\\mu) - 2     \\mu⋅(-\\mu⋅sin(\\mu) - 2⋅cos(\\mu) + 2)   -\\\n",
       "⎢                                                                             \n",
       "⎢             sin(\\mu)                 L⋅(\\mu⋅sin(\\mu) + cos(\\mu) - 1)        \n",
       "⎢  ─────────────────────────────     ───────────────────────────────────    ──\n",
       "⎣  \\mu⋅sin(\\mu) + 2⋅cos(\\mu) - 2     \\mu⋅(\\mu⋅sin(\\mu) + 2⋅cos(\\mu) - 2)    -\\\n",
       "\n",
       "        cos(\\mu) - 1                     L⋅(\\mu - sin(\\mu))         ⎤\n",
       "────────────────────────────    ─────────────────────────────────── ⎥\n",
       "mu⋅sin(\\mu) + 2⋅cos(\\mu) - 2    \\mu⋅(\\mu⋅sin(\\mu) + 2⋅cos(\\mu) - 2) ⎥\n",
       "                                                                    ⎥\n",
       "        \\mu⋅sin(\\mu)                        cos(\\mu) - 1            ⎥\n",
       "──────────────────────────────     ─────────────────────────────    ⎥\n",
       "\\mu⋅sin(\\mu) + 2⋅cos(\\mu) - 2)     \\mu⋅sin(\\mu) + 2⋅cos(\\mu) - 2    ⎥\n",
       "                                                                    ⎥\n",
       "       cos(\\mu) - 1                     L⋅(-\\mu + sin(\\mu))         ⎥\n",
       "────────────────────────────    ─────────────────────────────────── ⎥\n",
       "mu⋅sin(\\mu) - 2⋅cos(\\mu) + 2    \\mu⋅(\\mu⋅sin(\\mu) + 2⋅cos(\\mu) - 2) ⎥\n",
       "                                                                    ⎥\n",
       "         sin(\\mu)                         L⋅(cos(\\mu) - 1)          ⎥\n",
       "────────────────────────────    ────────────────────────────────────⎥\n",
       "mu⋅sin(\\mu) - 2⋅cos(\\mu) + 2    \\mu⋅(-\\mu⋅sin(\\mu) - 2⋅cos(\\mu) + 2)⎦"
      ]
     },
     "execution_count": 6,
     "metadata": {},
     "output_type": "execute_result"
    }
   ],
   "source": [
    "Inv_matM = simplify(Inv_matM)\n",
    "Inv_matM"
   ]
  },
  {
   "cell_type": "markdown",
   "metadata": {
    "slideshow": {
     "slide_type": "slide"
    }
   },
   "source": [
    "## Construcción de las funciones de forma"
   ]
  },
  {
   "cell_type": "code",
   "execution_count": 7,
   "metadata": {
    "slideshow": {
     "slide_type": "-"
    }
   },
   "outputs": [],
   "source": [
    "N1 = base.dot(Inv_matM.col(0))\n",
    "N2 = base.dot(Inv_matM.col(1))\n",
    "N3 = base.dot(Inv_matM.col(2))\n",
    "N4 = base.dot(Inv_matM.col(3))"
   ]
  },
  {
   "cell_type": "markdown",
   "metadata": {
    "slideshow": {
     "slide_type": "subslide"
    }
   },
   "source": [
    "Veamos alguna de ellas"
   ]
  },
  {
   "cell_type": "code",
   "execution_count": null,
   "metadata": {
    "slideshow": {
     "slide_type": "-"
    }
   },
   "outputs": [],
   "source": [
    "N1"
   ]
  },
  {
   "cell_type": "markdown",
   "metadata": {
    "slideshow": {
     "slide_type": "slide"
    }
   },
   "source": [
    "## Definición de las funciones \"esfuerzo cortante\" y \"momento flector\" en la viga-columna comprimida\n",
    "\n",
    "A continuación se definen las funciones que permiten obtener el esfuerzo cortante $\\mathcal{V}(x)$ y el momento flector $\\mathcal{M}(x)$, para una viga-columna comprimida. Estas funciones pueden construirse a partir de la solución para el desplazamiento $y(x)$, como: \n",
    "\n",
    "\\begin{eqnarray}\n",
    "\\mathcal{V}(x) & = & - EI\\,y'''(x) - P \\,y'\\\\\n",
    "\\mathcal{M}(x) & = & EI\\,y''(x)\n",
    "\\end{eqnarray}\n",
    "\n",
    "Siendo $P$ el esfuerzo axil de compresión. \n",
    "\n",
    "Nótese que se está empleando $\\mu$ en lugar de $P$ en las expresiones. Su relación es: \n",
    "\n",
    "$$P = EI\\,\\dfrac{\\mu^2}{L^2}$$\n",
    "\n",
    "Nótese que estas funciones tienen signo, coherente con lo visto en la asignatura."
   ]
  },
  {
   "cell_type": "code",
   "execution_count": 8,
   "metadata": {
    "slideshow": {
     "slide_type": "-"
    }
   },
   "outputs": [],
   "source": [
    "EI = symbols('EI')\n",
    "def cortante(f):\n",
    "    return -EI*diff(f,x,3) - EI*mu**2/L**2 * diff(f,x) # Corrección para el cortante en una viga-columna\n",
    "\n",
    "def flector(f):\n",
    "    return EI*diff(f,x,2)"
   ]
  },
  {
   "cell_type": "markdown",
   "metadata": {
    "slideshow": {
     "slide_type": "slide"
    }
   },
   "source": [
    "## Construcción de la matriz de rigidez. \n",
    "\n",
    "La columna $j$ de la matriz de rigidez, con $j\\in[1,4]$ tiene 4 términos. En los cuatro términos de las filas, se ubican las fuerzas y momentos, según el criterio de signos para fuerzas en extremos de barras (no confundir con los signos para los momentos), que deben aplicarse para que la función de desplazamiento sea $hj(x)$. \n",
    "\n",
    "Sus relaciones con las fuerzas y momentos en los extremos de barra, $P_{iy}, M_i, P_{jy}, M_j$, son las siguientes:\n",
    "\n",
    "<img src=\"criteriosignosvigacol.png\" width=\"500\" >\n",
    "\n",
    "\\begin{eqnarray}\n",
    "P_{iy} & = & - \\mathcal{V}(0) \\\\\n",
    "M_i & = & - \\mathcal{M}{0} \\\\\n",
    "P_{jy} & = & \\mathcal{V}(L) \\\\\n",
    "M_j & = & \\mathcal{M}(L)\n",
    "\\end{eqnarray}\n",
    "\n",
    "Considerando estas relaciones, podemos construir la matriz de rigidez, evaluando en los extremos según la relación anterior, y teniendo en cuenta las soluciones ya calculadas para las funciones $N1(x), N2(x), N3(x), N4(x)$. \n",
    "\n",
    "Definamos una función que nos devolverá la columna correspondiente a la matriz de rigidez, dada una función de desplazamiento genérica:"
   ]
  },
  {
   "cell_type": "code",
   "execution_count": 9,
   "metadata": {
    "slideshow": {
     "slide_type": "-"
    }
   },
   "outputs": [],
   "source": [
    "def columna(f):\n",
    "    return Matrix([[-cortante(f).subs(x,0)],[-flector(f).subs(x,0)],[cortante(f).subs(x,L)],[flector(f).subs(x,L)]])"
   ]
  },
  {
   "cell_type": "markdown",
   "metadata": {
    "slideshow": {
     "slide_type": "slide"
    }
   },
   "source": [
    "Construimos la matriz de rigidez, apilando las cuatro columnas."
   ]
  },
  {
   "cell_type": "code",
   "execution_count": 10,
   "metadata": {
    "slideshow": {
     "slide_type": "-"
    }
   },
   "outputs": [],
   "source": [
    "matriz_rigidez = Matrix.hstack(columna(N1),columna(N2),columna(N3),columna(N4))\n",
    "                     "
   ]
  },
  {
   "cell_type": "code",
   "execution_count": 11,
   "metadata": {
    "slideshow": {
     "slide_type": "-"
    }
   },
   "outputs": [],
   "source": [
    "matriz_rigidez = simplify(matriz_rigidez)"
   ]
  },
  {
   "cell_type": "code",
   "execution_count": 12,
   "metadata": {
    "slideshow": {
     "slide_type": "slide"
    }
   },
   "outputs": [
    {
     "data": {
      "image/png": "[encoded data removed]",
      "text/latex": [
       "$\\displaystyle \\left[\\begin{matrix}- \\frac{EI \\mu^{3} \\sin{\\left(\\mu \\right)}}{L^{3} \\left(\\mu \\sin{\\left(\\mu \\right)} + 2 \\cos{\\left(\\mu \\right)} - 2\\right)} & \\frac{EI \\mu^{2} \\left(\\cos{\\left(\\mu \\right)} - 1\\right)}{L^{2} \\left(\\mu \\sin{\\left(\\mu \\right)} + 2 \\cos{\\left(\\mu \\right)} - 2\\right)} & \\frac{EI \\mu^{3} \\sin{\\left(\\mu \\right)}}{L^{3} \\left(\\mu \\sin{\\left(\\mu \\right)} + 2 \\cos{\\left(\\mu \\right)} - 2\\right)} & \\frac{EI \\mu^{2} \\left(\\cos{\\left(\\mu \\right)} - 1\\right)}{L^{2} \\left(\\mu \\sin{\\left(\\mu \\right)} + 2 \\cos{\\left(\\mu \\right)} - 2\\right)}\\\\\\frac{EI \\mu^{2} \\left(\\cos{\\left(\\mu \\right)} - 1\\right)}{L^{2} \\left(\\mu \\sin{\\left(\\mu \\right)} + 2 \\cos{\\left(\\mu \\right)} - 2\\right)} & \\frac{EI \\mu \\left(\\mu \\cos{\\left(\\mu \\right)} - \\sin{\\left(\\mu \\right)}\\right)}{L \\left(\\mu \\sin{\\left(\\mu \\right)} + 2 \\cos{\\left(\\mu \\right)} - 2\\right)} & \\frac{EI \\mu^{2} \\left(1 - \\cos{\\left(\\mu \\right)}\\right)}{L^{2} \\left(\\mu \\sin{\\left(\\mu \\right)} + 2 \\cos{\\left(\\mu \\right)} - 2\\right)} & \\frac{EI \\mu \\left(- \\mu + \\sin{\\left(\\mu \\right)}\\right)}{L \\left(\\mu \\sin{\\left(\\mu \\right)} + 2 \\cos{\\left(\\mu \\right)} - 2\\right)}\\\\\\frac{EI \\mu^{3} \\sin{\\left(\\mu \\right)}}{L^{3} \\left(\\mu \\sin{\\left(\\mu \\right)} + 2 \\cos{\\left(\\mu \\right)} - 2\\right)} & \\frac{EI \\mu^{2} \\left(1 - \\cos{\\left(\\mu \\right)}\\right)}{L^{2} \\left(\\mu \\sin{\\left(\\mu \\right)} + 2 \\cos{\\left(\\mu \\right)} - 2\\right)} & - \\frac{EI \\mu^{3} \\sin{\\left(\\mu \\right)}}{L^{3} \\left(\\mu \\sin{\\left(\\mu \\right)} + 2 \\cos{\\left(\\mu \\right)} - 2\\right)} & \\frac{EI \\mu^{2} \\left(1 - \\cos{\\left(\\mu \\right)}\\right)}{L^{2} \\left(\\mu \\sin{\\left(\\mu \\right)} + 2 \\cos{\\left(\\mu \\right)} - 2\\right)}\\\\\\frac{EI \\mu^{2} \\left(\\cos{\\left(\\mu \\right)} - 1\\right)}{L^{2} \\left(\\mu \\sin{\\left(\\mu \\right)} + 2 \\cos{\\left(\\mu \\right)} - 2\\right)} & \\frac{EI \\mu \\left(- \\mu + \\sin{\\left(\\mu \\right)}\\right)}{L \\left(\\mu \\sin{\\left(\\mu \\right)} + 2 \\cos{\\left(\\mu \\right)} - 2\\right)} & \\frac{EI \\mu^{2} \\left(1 - \\cos{\\left(\\mu \\right)}\\right)}{L^{2} \\left(\\mu \\sin{\\left(\\mu \\right)} + 2 \\cos{\\left(\\mu \\right)} - 2\\right)} & \\frac{EI \\mu \\left(\\mu \\cos{\\left(\\mu \\right)} - \\sin{\\left(\\mu \\right)}\\right)}{L \\left(\\mu \\sin{\\left(\\mu \\right)} + 2 \\cos{\\left(\\mu \\right)} - 2\\right)}\\end{matrix}\\right]$"
      ],
      "text/plain": [
       "⎡               3                                2                            \n",
       "⎢        -EI⋅\\mu ⋅sin(\\mu)                 EI⋅\\mu ⋅(cos(\\mu) - 1)             \n",
       "⎢──────────────────────────────────  ──────────────────────────────────  ─────\n",
       "⎢ 3                                   2                                   3   \n",
       "⎢L ⋅(\\mu⋅sin(\\mu) + 2⋅cos(\\mu) - 2)  L ⋅(\\mu⋅sin(\\mu) + 2⋅cos(\\mu) - 2)  L ⋅(\\\n",
       "⎢                                                                             \n",
       "⎢            2                                                                \n",
       "⎢      EI⋅\\mu ⋅(cos(\\mu) - 1)         EI⋅\\mu⋅(\\mu⋅cos(\\mu) - sin(\\mu))        \n",
       "⎢──────────────────────────────────  ─────────────────────────────────   ─────\n",
       "⎢ 2                                  L⋅(\\mu⋅sin(\\mu) + 2⋅cos(\\mu) - 2)    2   \n",
       "⎢L ⋅(\\mu⋅sin(\\mu) + 2⋅cos(\\mu) - 2)                                      L ⋅(\\\n",
       "⎢                                                                             \n",
       "⎢               3                                2                            \n",
       "⎢         EI⋅\\mu ⋅sin(\\mu)                 EI⋅\\mu ⋅(1 - cos(\\mu))             \n",
       "⎢──────────────────────────────────  ──────────────────────────────────  ─────\n",
       "⎢ 3                                   2                                   3   \n",
       "⎢L ⋅(\\mu⋅sin(\\mu) + 2⋅cos(\\mu) - 2)  L ⋅(\\mu⋅sin(\\mu) + 2⋅cos(\\mu) - 2)  L ⋅(\\\n",
       "⎢                                                                             \n",
       "⎢            2                                                                \n",
       "⎢      EI⋅\\mu ⋅(cos(\\mu) - 1)             EI⋅\\mu⋅(-\\mu + sin(\\mu))            \n",
       "⎢──────────────────────────────────  ─────────────────────────────────   ─────\n",
       "⎢ 2                                  L⋅(\\mu⋅sin(\\mu) + 2⋅cos(\\mu) - 2)    2   \n",
       "⎣L ⋅(\\mu⋅sin(\\mu) + 2⋅cos(\\mu) - 2)                                      L ⋅(\\\n",
       "\n",
       "          3                                2                     ⎤\n",
       "    EI⋅\\mu ⋅sin(\\mu)                 EI⋅\\mu ⋅(cos(\\mu) - 1)      ⎥\n",
       "─────────────────────────────  ──────────────────────────────────⎥\n",
       "                                2                                ⎥\n",
       "mu⋅sin(\\mu) + 2⋅cos(\\mu) - 2)  L ⋅(\\mu⋅sin(\\mu) + 2⋅cos(\\mu) - 2)⎥\n",
       "                                                                 ⎥\n",
       "       2                                                         ⎥\n",
       " EI⋅\\mu ⋅(1 - cos(\\mu))             EI⋅\\mu⋅(-\\mu + sin(\\mu))     ⎥\n",
       "─────────────────────────────  ───────────────────────────────── ⎥\n",
       "                               L⋅(\\mu⋅sin(\\mu) + 2⋅cos(\\mu) - 2) ⎥\n",
       "mu⋅sin(\\mu) + 2⋅cos(\\mu) - 2)                                    ⎥\n",
       "                                                                 ⎥\n",
       "          3                                2                     ⎥\n",
       "   -EI⋅\\mu ⋅sin(\\mu)                 EI⋅\\mu ⋅(1 - cos(\\mu))      ⎥\n",
       "─────────────────────────────  ──────────────────────────────────⎥\n",
       "                                2                                ⎥\n",
       "mu⋅sin(\\mu) + 2⋅cos(\\mu) - 2)  L ⋅(\\mu⋅sin(\\mu) + 2⋅cos(\\mu) - 2)⎥\n",
       "                                                                 ⎥\n",
       "       2                                                         ⎥\n",
       " EI⋅\\mu ⋅(1 - cos(\\mu))         EI⋅\\mu⋅(\\mu⋅cos(\\mu) - sin(\\mu)) ⎥\n",
       "─────────────────────────────  ───────────────────────────────── ⎥\n",
       "                               L⋅(\\mu⋅sin(\\mu) + 2⋅cos(\\mu) - 2) ⎥\n",
       "mu⋅sin(\\mu) + 2⋅cos(\\mu) - 2)                                    ⎦"
      ]
     },
     "execution_count": 12,
     "metadata": {},
     "output_type": "execute_result"
    }
   ],
   "source": [
    "matriz_rigidez"
   ]
  },
  {
   "cell_type": "markdown",
   "metadata": {
    "slideshow": {
     "slide_type": "slide"
    }
   },
   "source": [
    "## Comparación con solución aportada\n",
    "\n",
    "A continuación, vamos a comprobar si esta matriz se corresponde con la matriz que se propone en el libro de la asignatura. Para esto, definamos en primer lugar los símbolos para las cuatro funciones de estabilidad, y generemos la matriz simbólica. "
   ]
  },
  {
   "cell_type": "code",
   "execution_count": 13,
   "metadata": {
    "slideshow": {
     "slide_type": "-"
    }
   },
   "outputs": [],
   "source": [
    "fi1,fi2,fi3,fi4 = symbols('\\phi_1 \\phi_2 \\phi_3 \\phi_4')"
   ]
  },
  {
   "cell_type": "code",
   "execution_count": 14,
   "metadata": {
    "slideshow": {
     "slide_type": "slide"
    }
   },
   "outputs": [],
   "source": [
    "matriz_rigidez_propuesta = Matrix( [ [fi4*EI/L**3,fi1*EI/L**2,-fi4*EI/L**3,fi1*EI/L**2],\n",
    "                               [fi1*EI/L**2,fi2*EI/L,-fi1*EI/L**2,fi3*EI/L],\n",
    "                               [-fi4*EI/L**3,-fi1*EI/L**2,fi4*EI/L**3,-fi1*EI/L**2,],\n",
    "                               [fi1*EI/L**2,fi3*EI/L,-fi1*EI/L**2,fi2*EI/L]])"
   ]
  },
  {
   "cell_type": "code",
   "execution_count": 15,
   "metadata": {
    "slideshow": {
     "slide_type": "-"
    }
   },
   "outputs": [
    {
     "data": {
      "image/png": "[encoded data removed]",
      "text/latex": [
       "$\\displaystyle \\left[\\begin{matrix}\\frac{EI \\phi_{4}}{L^{3}} & \\frac{EI \\phi_{1}}{L^{2}} & - \\frac{EI \\phi_{4}}{L^{3}} & \\frac{EI \\phi_{1}}{L^{2}}\\\\\\frac{EI \\phi_{1}}{L^{2}} & \\frac{EI \\phi_{2}}{L} & - \\frac{EI \\phi_{1}}{L^{2}} & \\frac{EI \\phi_{3}}{L}\\\\- \\frac{EI \\phi_{4}}{L^{3}} & - \\frac{EI \\phi_{1}}{L^{2}} & \\frac{EI \\phi_{4}}{L^{3}} & - \\frac{EI \\phi_{1}}{L^{2}}\\\\\\frac{EI \\phi_{1}}{L^{2}} & \\frac{EI \\phi_{3}}{L} & - \\frac{EI \\phi_{1}}{L^{2}} & \\frac{EI \\phi_{2}}{L}\\end{matrix}\\right]$"
      ],
      "text/plain": [
       "⎡ EI⋅\\phi₄    EI⋅\\phi₁   -EI⋅\\phi₄    EI⋅\\phi₁ ⎤\n",
       "⎢ ────────    ────────   ──────────   ──────── ⎥\n",
       "⎢     3           2           3           2    ⎥\n",
       "⎢    L           L           L           L     ⎥\n",
       "⎢                                              ⎥\n",
       "⎢ EI⋅\\phi₁    EI⋅\\phi₂   -EI⋅\\phi₁    EI⋅\\phi₃ ⎥\n",
       "⎢ ────────    ────────   ──────────   ──────── ⎥\n",
       "⎢     2          L            2          L     ⎥\n",
       "⎢    L                       L                 ⎥\n",
       "⎢                                              ⎥\n",
       "⎢-EI⋅\\phi₄   -EI⋅\\phi₁    EI⋅\\phi₄   -EI⋅\\phi₁ ⎥\n",
       "⎢──────────  ──────────   ────────   ──────────⎥\n",
       "⎢     3           2           3           2    ⎥\n",
       "⎢    L           L           L           L     ⎥\n",
       "⎢                                              ⎥\n",
       "⎢ EI⋅\\phi₁    EI⋅\\phi₃   -EI⋅\\phi₁    EI⋅\\phi₂ ⎥\n",
       "⎢ ────────    ────────   ──────────   ──────── ⎥\n",
       "⎢     2          L            2          L     ⎥\n",
       "⎣    L                       L                 ⎦"
      ]
     },
     "execution_count": 15,
     "metadata": {},
     "output_type": "execute_result"
    }
   ],
   "source": [
    "matriz_rigidez_propuesta"
   ]
  },
  {
   "cell_type": "markdown",
   "metadata": {
    "slideshow": {
     "slide_type": "slide"
    }
   },
   "source": [
    "Puede comprobarse, término a término, que esta matriz se corresponde con la facilitada en el libro de la asignatura. \n",
    "\n",
    "Vamos a continuación a reemplazar las funciones de estabilidad por sus expresiones, propuestas en el libro:"
   ]
  },
  {
   "cell_type": "code",
   "execution_count": 16,
   "metadata": {
    "slideshow": {
     "slide_type": "subslide"
    }
   },
   "outputs": [],
   "source": [
    "deltac = 2*(1-cos(mu))-mu*sin(mu)\n",
    "fi1 = mu**2 * (1 - cos(mu)) / deltac\n",
    "fi2 = ( mu * sin(mu) - mu**2*cos(mu) )/deltac\n",
    "fi3 = (mu**2 - mu * sin(mu))/deltac\n",
    "fi4 = mu**3 * sin(mu) / deltac\n",
    "\n",
    "mrigidez_propuesta = Matrix( [ [fi4*EI/L**3,fi1*EI/L**2,-fi4*EI/L**3,fi1*EI/L**2],\n",
    "                               [fi1*EI/L**2,fi2*EI/L,-fi1*EI/L**2,fi3*EI/L],\n",
    "                               [-fi4*EI/L**3,-fi1*EI/L**2,fi4*EI/L**3,-fi1*EI/L**2,],\n",
    "                               [fi1*EI/L**2,fi3*EI/L,-fi1*EI/L**2,fi2*EI/L]])"
   ]
  },
  {
   "cell_type": "markdown",
   "metadata": {
    "slideshow": {
     "slide_type": "slide"
    }
   },
   "source": [
    "Finalmente, compararemos ambas matrices. Una buena forma para hacerlo consiste en restar sus expresiones, y operando en modo simbólico. "
   ]
  },
  {
   "cell_type": "code",
   "execution_count": 17,
   "metadata": {
    "slideshow": {
     "slide_type": "-"
    }
   },
   "outputs": [
    {
     "data": {
      "image/png": "[encoded data removed]",
      "text/latex": [
       "$\\displaystyle \\left[\\begin{matrix}0 & 0 & 0 & 0\\\\0 & 0 & 0 & 0\\\\0 & 0 & 0 & 0\\\\0 & 0 & 0 & 0\\end{matrix}\\right]$"
      ],
      "text/plain": [
       "⎡0  0  0  0⎤\n",
       "⎢          ⎥\n",
       "⎢0  0  0  0⎥\n",
       "⎢          ⎥\n",
       "⎢0  0  0  0⎥\n",
       "⎢          ⎥\n",
       "⎣0  0  0  0⎦"
      ]
     },
     "execution_count": 17,
     "metadata": {},
     "output_type": "execute_result"
    }
   ],
   "source": [
    "simplify(matriz_rigidez - mrigidez_propuesta)"
   ]
  },
  {
   "cell_type": "markdown",
   "metadata": {
    "slideshow": {
     "slide_type": "-"
    }
   },
   "source": [
    "En efecto, observamos que la diferencia es cero para todos los términos. Esto indica la matriz proporcionada en el libro de inestabilidad es correcta. "
   ]
  },
  {
   "cell_type": "markdown",
   "metadata": {},
   "source": [
    "# Ejercicio propuesto: \n",
    "\n",
    "Copie este cuaderno y modifíquelo para comprobar las expresiones de las matrices de rigidez para viga-columna sometida a un axil de tracción $T$. Recuerde que en esta ocasión, la base ya no incluye términos trigonométricos, sino trigonométricos hiperbólicos. "
   ]
  },
  {
   "cell_type": "markdown",
   "metadata": {},
   "source": [
    "## Expansión en serie de la matriz de rigidez\n",
    "\n",
    "La expansión en serie, en función de $\\mu$, de esta matriz de rigidez permite linealizar dicha matriz. En Sympy es sencillo obtener expansiones en serie. "
   ]
  },
  {
   "cell_type": "code",
   "execution_count": 18,
   "metadata": {},
   "outputs": [
    {
     "data": {
      "image/png": "[encoded data removed]",
      "text/latex": [
       "$\\displaystyle \\frac{12 EI}{L^{3}} - \\frac{6 EI \\mu^{2}}{5 L^{3}} - \\frac{EI \\mu^{4}}{700 L^{3}} + O\\left(\\mu^{6}\\right)$"
      ],
      "text/plain": [
       "                2         4          \n",
       "12⋅EI   6⋅EI⋅\\mu    EI⋅\\mu     ⎛   6⎞\n",
       "───── - ───────── - ─────── + O⎝\\mu ⎠\n",
       "   3          3           3          \n",
       "  L        5⋅L       700⋅L           "
      ]
     },
     "execution_count": 18,
     "metadata": {},
     "output_type": "execute_result"
    }
   ],
   "source": [
    "series(matriz_rigidez[(0,0)],mu)"
   ]
  },
  {
   "cell_type": "code",
   "execution_count": null,
   "metadata": {},
   "outputs": [],
   "source": [
    "series(matriz_rigidez[(0,1)],mu)"
   ]
  },
  {
   "cell_type": "code",
   "execution_count": null,
   "metadata": {},
   "outputs": [],
   "source": []
  }
 ],
 "metadata": {
  "kernelspec": {
   "display_name": "Python 3 (ipykernel)",
   "language": "python",
   "name": "python3"
  },
  "language_info": {
   "codemirror_mode": {
    "name": "ipython",
    "version": 3
   },
   "file_extension": ".py",
   "mimetype": "text/x-python",
   "name": "python",
   "nbconvert_exporter": "python",
   "pygments_lexer": "ipython3",
   "version": "3.8.12"
  },
  "nbTranslate": {
   "displayLangs": [
    "*"
   ],
   "hotkey": "alt-t",
   "langInMainMenu": true,
   "sourceLang": "en",
   "targetLang": "fr",
   "useGoogleTranslate": true
  },
  "toc": {
   "base_numbering": 1,
   "nav_menu": {},
   "number_sections": true,
   "sideBar": true,
   "skip_h1_title": true,
   "title_cell": "Table of Contents",
   "title_sidebar": "Contents",
   "toc_cell": false,
   "toc_position": {},
   "toc_section_display": true,
   "toc_window_display": false
  },
  "varInspector": {
   "cols": {
    "lenName": 16,
    "lenType": 16,
    "lenVar": 40
   },
   "kernels_config": {
    "python": {
     "delete_cmd_postfix": "",
     "delete_cmd_prefix": "del ",
     "library": "var_list.py",
     "varRefreshCmd": "print(var_dic_list())"
    },
    "r": {
     "delete_cmd_postfix": ") ",
     "delete_cmd_prefix": "rm(",
     "library": "var_list.r",
     "varRefreshCmd": "cat(var_dic_list()) "
    }
   },
   "types_to_exclude": [
    "module",
    "function",
    "builtin_function_or_method",
    "instance",
    "_Feature"
   ],
   "window_display": false
  }
 },
 "nbformat": 4,
 "nbformat_minor": 4
}
